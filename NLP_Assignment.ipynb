{
 "cells": [
  {
   "cell_type": "markdown",
   "metadata": {
    "id": "ptMZZMQlfn7c"
   },
   "source": [
    "------\n",
    "**You cannot apply any changes to this file, so please make sure to save it on your Google Colab drive or download it as a .ipynb file.**\n",
    "\n",
    "------\n"
   ]
  },
  {
   "cell_type": "markdown",
   "metadata": {
    "id": "jILqpPLlE9r0"
   },
   "source": [
    "# Practical 2: Representing Sentences with Neural Models"
   ]
  },
  {
   "cell_type": "markdown",
   "metadata": {
    "id": "8JXOZ5uhQ8Qq"
   },
   "source": [
    "In this second practical, we will train neural network models to obtain sentence representations. We can then use these sentence representations for a downstream task such as sentiment classification. \n",
    "\n",
    "In this notebook, we will help you to develop models for your experiments. But this time, next to completing the notebook, **you are expected to write a four-page scientific report with your findings**. Please still submit the notebook together with your scientific report so that we can reproduce your experiments. (Note: if you find it useful, you can split this notebook into multiple notebooks. If you do so, keep it mind that it should be possible for your TAs to reproduce the entire content of the notebooks without having to ask for clarifications or to copy and paste functions from one sub-notebook to another.) Make sure your code corresponds to the description you give in the report; we will deduct points if this is not the case.\n",
    "\n",
    "**Important!** The main purpose of this lab is for you to learn how to answer research questions by experimenting and then writing a scientific report.\n",
    "So you will be *judged by the quality of your report* but will lose points if your experiments are not reproducible.\n",
    "You can find the requirements for the report at the end of this notebook.\n",
    "\n",
    "\n",
    "### Data set\n",
    "We will use the [Stanford Sentiment Treebank](https://nlp.stanford.edu/sentiment/) (SST), which provides sentences, their binary tree structure, and fine-grained sentiment scores.\n",
    "This dataset is different from the one we used in the first practical. \n",
    "In Practical 1, a review consisted of several sentences, and we had one sentiment score for the whole review. Now, a review consists of a single sentence, and we have a sentiment score for each node in the binary tree that makes up the sentence, including the root node (i.e., we still have an overall sentiment score for the entire review). We will look at an example below.\n",
    "\n",
    "In the first part of this practical we will only make use of the sentence tokens whereas in the second part we will also exploit the tree structure that is provided by the SST.\n",
    "\n",
    "We will cover the following approaches:\n",
    "\n",
    "- Bag-of-words (BOW)\n",
    "- Continuous bag-of-words (CBOW)\n",
    "- Deep continuous bag-of-words (Deep CBOW)\n",
    "- LSTM\n",
    "- Tree-LSTM\n"
   ]
  },
  {
   "cell_type": "markdown",
   "metadata": {
    "id": "YbNKef3lymaj"
   },
   "source": [
    "## Preparing the data"
   ]
  },
  {
   "cell_type": "markdown",
   "metadata": {
    "id": "9jxTkpg59FlU"
   },
   "source": [
    "Let's first download the data set and take a look."
   ]
  },
  {
   "cell_type": "code",
   "execution_count": 1,
   "metadata": {
    "id": "WZp53HmMP3F2"
   },
   "outputs": [],
   "source": [
    "import re\n",
    "import os\n",
    "import random\n",
    "import time\n",
    "import math\n",
    "import numpy as np\n",
    "import nltk\n",
    "import matplotlib.pyplot as plt\n",
    "plt.style.use('default')"
   ]
  },
  {
   "cell_type": "code",
   "execution_count": 2,
   "metadata": {
    "colab": {
     "base_uri": "https://localhost:8080/"
    },
    "id": "TovFkDTgE_d6",
    "outputId": "04b752eb-37d9-4ff3-a3c2-8b6754dc60a5"
   },
   "outputs": [],
   "source": [
    "# !wget http://nlp.stanford.edu/sentiment/trainDevTestTrees_PTB.zip\n",
    "# !unzip trainDevTestTrees_PTB.zip"
   ]
  },
  {
   "cell_type": "code",
   "execution_count": 3,
   "metadata": {},
   "outputs": [],
   "source": [
    "# mkdir data\n",
    "# wget -P ./data http://nlp.stanford.edu/sentiment/trainDevTestTrees_PTB.zip\n",
    "# unzip ./data/trainDevTestTrees_PTB.zip -d ./data\n",
    "# wget -P ./data https://gist.githubusercontent.com/bastings/b094de2813da58056a05e8e7950d4ad1/raw/3fbd3976199c2b88de2ae62afc0ecc6f15e6f7ce/glove.840B.300d.sst.txt\n",
    "# wget -P ./data https://gist.githubusercontent.com/bastings/4d1c346c68969b95f2c34cfbc00ba0a0/raw/76b4fefc9ef635a79d0d8002522543bc53ca2683/googlenews.word2vec.300d.txt\n",
    "# mkdir save\n",
    "# mkdir save/models"
   ]
  },
  {
   "cell_type": "code",
   "execution_count": 4,
   "metadata": {
    "id": "0IpAphkBO5eW"
   },
   "outputs": [],
   "source": [
    "# this function reads in a textfile and fixes an issue with \"\\\\\"\n",
    "def filereader(path): \n",
    "  with open(path, mode=\"r\", encoding=\"utf-8\") as f:\n",
    "    for line in f:\n",
    "      yield line.strip().replace(\"\\\\\",\"\")"
   ]
  },
  {
   "cell_type": "markdown",
   "metadata": {
    "id": "yP_jpquiprH8"
   },
   "source": [
    "Let's look at a data point. It is a **flattened binary tree**, with sentiment scores at every node, and words as the leaves (or *terminal nodes*)."
   ]
  },
  {
   "cell_type": "code",
   "execution_count": 5,
   "metadata": {
    "colab": {
     "base_uri": "https://localhost:8080/"
    },
    "id": "ylkIopm0QJML",
    "outputId": "6dc60009-e7a4-4002-db37-d4f49bca1607"
   },
   "outputs": [
    {
     "name": "stdout",
     "output_type": "stream",
     "text": [
      "(3 (2 It) (4 (4 (2 's) (4 (3 (2 a) (4 (3 lovely) (2 film))) (3 (2 with) (4 (3 (3 lovely) (2 performances)) (2 (2 by) (2 (2 (2 Buy) (2 and)) (2 Accorsi))))))) (2 .)))\n"
     ]
    }
   ],
   "source": [
    "s = next(filereader(\"data/trees/dev.txt\"))\n",
    "print(s)"
   ]
  },
  {
   "cell_type": "code",
   "execution_count": 6,
   "metadata": {
    "colab": {
     "base_uri": "https://localhost:8080/"
    },
    "id": "7_U7HTFwdrWt",
    "outputId": "80055d7f-8755-423b-8804-3363222bc06b"
   },
   "outputs": [
    {
     "name": "stdout",
     "output_type": "stream",
     "text": [
      "              3                                                                     \n",
      "  ____________|____________________                                                  \n",
      " |                                 4                                                \n",
      " |        _________________________|______________________________________________   \n",
      " |       4                                                                        | \n",
      " |    ___|______________                                                          |  \n",
      " |   |                  4                                                         | \n",
      " |   |         _________|__________                                               |  \n",
      " |   |        |                    3                                              | \n",
      " |   |        |               _____|______________________                        |  \n",
      " |   |        |              |                            4                       | \n",
      " |   |        |              |            ________________|_______                |  \n",
      " |   |        |              |           |                        2               | \n",
      " |   |        |              |           |                 _______|___            |  \n",
      " |   |        3              |           |                |           2           | \n",
      " |   |    ____|_____         |           |                |        ___|_____      |  \n",
      " |   |   |          4        |           3                |       2         |     | \n",
      " |   |   |     _____|___     |      _____|_______         |    ___|___      |     |  \n",
      " 2   2   2    3         2    2     3             2        2   2       2     2     2 \n",
      " |   |   |    |         |    |     |             |        |   |       |     |     |  \n",
      " It  's  a  lovely     film with lovely     performances  by Buy     and Accorsi  . \n",
      "\n"
     ]
    },
    {
     "name": "stderr",
     "output_type": "stream",
     "text": [
      "/var/folders/pd/y286k78128gbg63w8cthg6h40000gn/T/ipykernel_74285/1673670219.py:5: DeprecationWarning: \n",
      "    Class TreePrettyPrinter has been deprecated.  Import\n",
      "    `TreePrettyPrinter` using `from nltk.tree import\n",
      "    TreePrettyPrinter` instead.\n",
      "  print(TreePrettyPrinter(tree))\n"
     ]
    }
   ],
   "source": [
    "# We can use NLTK to better visualise the tree structure of the sentence\n",
    "from nltk import Tree\n",
    "from nltk.treeprettyprinter import TreePrettyPrinter\n",
    "tree = Tree.fromstring(s)\n",
    "print(TreePrettyPrinter(tree))"
   ]
  },
  {
   "cell_type": "markdown",
   "metadata": {
    "id": "ekAWKsji9t93"
   },
   "source": [
    "The sentiment scores range from 0 (very negative) to 5 (very positive). Again, as you can see, every node in the tree is labeled with a sentiment score. For now, we will only use the score at the **root node**, i.e., the sentiment score for the complete sentence."
   ]
  },
  {
   "cell_type": "code",
   "execution_count": 7,
   "metadata": {
    "colab": {
     "base_uri": "https://localhost:8080/"
    },
    "id": "DKynLm0xPKr2",
    "outputId": "bc0a3ccf-2ed2-4f4d-e3f8-e3330dcb18de"
   },
   "outputs": [
    {
     "name": "stdout",
     "output_type": "stream",
     "text": [
      "['It', \"'s\", 'a', 'lovely', 'film', 'with', 'lovely', 'performances', 'by', 'Buy', 'and', 'Accorsi', '.']\n",
      "13\n"
     ]
    }
   ],
   "source": [
    "# Let's first make a function that extracts the tokens (the leaves).\n",
    "\n",
    "def tokens_from_treestring(s):\n",
    "  \"\"\"extract the tokens from a sentiment tree\"\"\"\n",
    "  return re.sub(r\"\\([0-9] |\\)\", \"\", s).split()\n",
    " \n",
    "# let's try it on our example tree\n",
    "tokens = tokens_from_treestring(s)\n",
    "print(tokens)\n",
    "print(len(tokens))"
   ]
  },
  {
   "cell_type": "markdown",
   "metadata": {
    "id": "B8vFkeqN-NLP"
   },
   "source": [
    "> *Warning: you could also parse a treestring using NLTK and ask it to return the leaves, but there seems to be an issue with NLTK not always correctly parsing the input, so do not rely on it.*"
   ]
  },
  {
   "cell_type": "code",
   "execution_count": 8,
   "metadata": {
    "id": "Akr9K_Mv4dym"
   },
   "outputs": [],
   "source": [
    "# We will also need the following function, but you can ignore this for now.\n",
    "# It is explained later on.\n",
    "\n",
    "SHIFT = 0\n",
    "REDUCE = 1\n",
    "\n",
    "\n",
    "def transitions_from_treestring(s):\n",
    "  s = re.sub(\"\\([0-5] ([^)]+)\\)\", \"0\", s)\n",
    "  s = re.sub(\"\\)\", \" )\", s)\n",
    "  s = re.sub(\"\\([0-4] \", \"\", s)\n",
    "  s = re.sub(\"\\([0-4] \", \"\", s)\n",
    "  s = re.sub(\"\\)\", \"1\", s)\n",
    "  return list(map(int, s.split()))"
   ]
  },
  {
   "cell_type": "code",
   "execution_count": 9,
   "metadata": {
    "colab": {
     "base_uri": "https://localhost:8080/"
    },
    "id": "mNtPdlwPgRat",
    "outputId": "9c999c1a-80e0-4e56-cfe0-b543b20985f2"
   },
   "outputs": [
    {
     "name": "stdout",
     "output_type": "stream",
     "text": [
      "data/trees/train.txt 8544\n",
      "data/trees/dev.txt 1101\n",
      "data/trees/test.txt 2210\n"
     ]
    }
   ],
   "source": [
    "# Now let's first see how large our data sets are.\n",
    "for path in (\"data/trees/train.txt\", \"data/trees/dev.txt\", \"data/trees/test.txt\"):\n",
    "  print(\"{:16s} {:4d}\".format(path, sum(1 for _ in filereader(path))))"
   ]
  },
  {
   "cell_type": "markdown",
   "metadata": {
    "id": "HexlSqTR_UrY"
   },
   "source": [
    "You can see that the number of sentences is not very large. That's probably because the data set required so much manual annotation. However, it is large enough to train a neural network on."
   ]
  },
  {
   "cell_type": "markdown",
   "metadata": {
    "id": "IfRjelOcsXuC"
   },
   "source": [
    "It will be useful to store each data example in an `Example` object,\n",
    "containing everything that we may need for each data point.\n",
    "It will contain the tokens, the tree, the top-level sentiment label, and \n",
    "the transitions (explained later)."
   ]
  },
  {
   "cell_type": "code",
   "execution_count": 10,
   "metadata": {
    "colab": {
     "base_uri": "https://localhost:8080/"
    },
    "id": "4I07Hb_-q8wg",
    "outputId": "cc2a8f6b-3170-45be-a6d5-9b68d34b80ff"
   },
   "outputs": [
    {
     "name": "stdout",
     "output_type": "stream",
     "text": [
      "train 8544\n",
      "dev 1101\n",
      "test 2210\n"
     ]
    }
   ],
   "source": [
    "from collections import namedtuple\n",
    "from nltk import Tree\n",
    "\n",
    "# A simple way to define a class is using namedtuple.\n",
    "Example = namedtuple(\"Example\", [\"tokens\", \"tree\", \"label\", \"transitions\"])\n",
    "\n",
    "   \n",
    "def examplereader(path, lower=False):\n",
    "  \"\"\"Returns all examples in a file one by one.\"\"\"\n",
    "  for line in filereader(path):\n",
    "    line = line.lower() if lower else line\n",
    "    tokens = tokens_from_treestring(line)\n",
    "    tree = Tree.fromstring(line)  # use NLTK's Tree\n",
    "    label = int(line[1])\n",
    "    trans = transitions_from_treestring(line)\n",
    "    yield Example(tokens=tokens, tree=tree, label=label, transitions=trans)\n",
    "  \n",
    "\n",
    "# Let's load the data into memory.\n",
    "LOWER = False  # we will keep the original casing\n",
    "train_data = list(examplereader(\"data/trees/train.txt\", lower=LOWER))\n",
    "dev_data = list(examplereader(\"data/trees/dev.txt\", lower=LOWER))\n",
    "test_data = list(examplereader(\"data/trees/test.txt\", lower=LOWER))\n",
    "\n",
    "print(\"train\", len(train_data))\n",
    "print(\"dev\", len(dev_data))\n",
    "print(\"test\", len(test_data))"
   ]
  },
  {
   "cell_type": "markdown",
   "metadata": {
    "id": "6KM0bDyeVZtP"
   },
   "source": [
    "Let's check out an `Example` object."
   ]
  },
  {
   "cell_type": "code",
   "execution_count": 11,
   "metadata": {
    "colab": {
     "base_uri": "https://localhost:8080/"
    },
    "id": "J8mwcaZwxP1c",
    "outputId": "a3772e01-41db-4f93-8c78-c8dd70591cfc"
   },
   "outputs": [
    {
     "name": "stdout",
     "output_type": "stream",
     "text": [
      "First example: Example(tokens=['It', \"'s\", 'a', 'lovely', 'film', 'with', 'lovely', 'performances', 'by', 'Buy', 'and', 'Accorsi', '.'], tree=Tree('3', [Tree('2', ['It']), Tree('4', [Tree('4', [Tree('2', [\"'s\"]), Tree('4', [Tree('3', [Tree('2', ['a']), Tree('4', [Tree('3', ['lovely']), Tree('2', ['film'])])]), Tree('3', [Tree('2', ['with']), Tree('4', [Tree('3', [Tree('3', ['lovely']), Tree('2', ['performances'])]), Tree('2', [Tree('2', ['by']), Tree('2', [Tree('2', [Tree('2', ['Buy']), Tree('2', ['and'])]), Tree('2', ['Accorsi'])])])])])])]), Tree('2', ['.'])])]), label=3, transitions=[0, 0, 0, 0, 0, 1, 1, 0, 0, 0, 1, 0, 0, 0, 1, 0, 1, 1, 1, 1, 1, 1, 0, 1, 1])\n",
      "First example tokens: ['It', \"'s\", 'a', 'lovely', 'film', 'with', 'lovely', 'performances', 'by', 'Buy', 'and', 'Accorsi', '.']\n",
      "First example label: 3\n"
     ]
    }
   ],
   "source": [
    "example = dev_data[0]\n",
    "print(\"First example:\", example)\n",
    "print(\"First example tokens:\", example.tokens)\n",
    "print(\"First example label:\",  example.label)"
   ]
  },
  {
   "cell_type": "markdown",
   "metadata": {
    "id": "-WDSprDBVcr-"
   },
   "source": [
    "#### Vocabulary \n",
    "A first step in most NLP tasks is collecting all the word types that appear in the data into a vocabulary, and counting the frequency of their occurrences. On the one hand, this will give us an overview of the word distribution of the data set (what are the most frequent words, how many rare words are there, ...). On the other hand, we will also use the vocabulary to map each word to a unique numeric ID, which is a more handy index than a string."
   ]
  },
  {
   "cell_type": "code",
   "execution_count": 12,
   "metadata": {
    "id": "VvNgKx7usRSt"
   },
   "outputs": [],
   "source": [
    "# Here we first define a class that can map a word to an ID (w2i)\n",
    "# and back (i2w).\n",
    "\n",
    "from collections import Counter, OrderedDict, defaultdict\n",
    "\n",
    "\n",
    "class OrderedCounter(Counter, OrderedDict):\n",
    "  \"\"\"Counter that remembers the order elements are first seen\"\"\"\n",
    "  def __repr__(self):\n",
    "    return '%s(%r)' % (self.__class__.__name__,\n",
    "                      OrderedDict(self))\n",
    "  def __reduce__(self):\n",
    "    return self.__class__, (OrderedDict(self),)\n",
    "\n",
    "\n",
    "class Vocabulary:\n",
    "  \"\"\"A vocabulary, assigns IDs to tokens\"\"\"\n",
    "  \n",
    "  def __init__(self):\n",
    "    \"\"\"Bi-directionally maps a word to an ID: w2i, i2w\"\"\"\n",
    "    self.freqs = OrderedCounter()\n",
    "    self.w2i = {}\n",
    "    self.i2w = []\n",
    "\n",
    "  def count_token(self, t):\n",
    "    self.freqs[t] += 1\n",
    "    \n",
    "  def add_token(self, t):\n",
    "    self.w2i[t] = len(self.w2i)\n",
    "    self.i2w.append(t)    \n",
    "    \n",
    "  def build(self, min_freq=0):\n",
    "    \"\"\"\n",
    "    Builds the vocabulary.\n",
    "    min_freq: minimum number of occurrences for a word to be included  \n",
    "              in the vocabulary\n",
    "    \"\"\"\n",
    "    self.add_token(\"<unk>\")  # reserve 0 for <unk> (unknown words)\n",
    "    self.add_token(\"<pad>\")  # reserve 1 for <pad> (discussed later)   \n",
    "    \n",
    "    tok_freq = list(self.freqs.items())\n",
    "    tok_freq.sort(key=lambda x: x[1], reverse=True)\n",
    "    for tok, freq in tok_freq:\n",
    "      if freq >= min_freq:\n",
    "        self.add_token(tok)"
   ]
  },
  {
   "cell_type": "markdown",
   "metadata": {
    "id": "kOvkH_llVsoW"
   },
   "source": [
    "The vocabulary has by default an `<unk>` token and a `<pad>` token. The `<unk>` token is reserved for all words which do not appear in the training data (and for which, therefore, we cannot learn word representations). The function of the `<pad>` token will be explained later.\n",
    "\n",
    "\n",
    "Let's build the vocabulary!\n"
   ]
  },
  {
   "cell_type": "code",
   "execution_count": 13,
   "metadata": {
    "colab": {
     "base_uri": "https://localhost:8080/"
    },
    "id": "GwGQgQQBNUSq",
    "outputId": "6b0be0c8-f97b-4845-f070-bd51614b5a4c"
   },
   "outputs": [
    {
     "name": "stdout",
     "output_type": "stream",
     "text": [
      "Vocabulary size: 18280\n"
     ]
    }
   ],
   "source": [
    "# This process should be deterministic and should have the same result \n",
    "# if run multiple times on the same data set.\n",
    "\n",
    "v = Vocabulary()\n",
    "for data_set in (train_data,):\n",
    "  for ex in data_set:\n",
    "    for token in ex.tokens:\n",
    "      v.count_token(token)\n",
    "\n",
    "v.build()\n",
    "print(\"Vocabulary size:\", len(v.w2i))"
   ]
  },
  {
   "cell_type": "markdown",
   "metadata": {
    "id": "-UNIedPrPdCw"
   },
   "source": [
    "Let's have a closer look at the properties of our vocabulary. Having a good idea of what it is like can facilitate data analysis and debugging later on."
   ]
  },
  {
   "cell_type": "code",
   "execution_count": 14,
   "metadata": {
    "id": "oJyuogmh0CA7"
   },
   "outputs": [
    {
     "data": {
      "text/plain": "1973"
     },
     "execution_count": 14,
     "metadata": {},
     "output_type": "execute_result"
    }
   ],
   "source": [
    "# What is the ID for \"century?\"\n",
    "v.w2i.get('century')"
   ]
  },
  {
   "cell_type": "code",
   "execution_count": 15,
   "metadata": {
    "id": "O8OkPQ8Zv-rI"
   },
   "outputs": [
    {
     "data": {
      "text/plain": "['<unk>', '<pad>', '.', ',', 'the', 'and', 'a', 'of', 'to', \"'s\"]"
     },
     "execution_count": 15,
     "metadata": {},
     "output_type": "execute_result"
    }
   ],
   "source": [
    "# What are the first 10 words in the vocabulary (based on their IDs)?\n",
    "v.i2w[:10]"
   ]
  },
  {
   "cell_type": "code",
   "execution_count": 16,
   "metadata": {
    "id": "kmXwu02lOLWI"
   },
   "outputs": [
    {
     "data": {
      "text/plain": "[('.', 8024),\n (',', 7131),\n ('the', 6037),\n ('and', 4431),\n ('a', 4403),\n ('of', 4386),\n ('to', 2995),\n (\"'s\", 2544),\n ('is', 2536),\n ('that', 1915)]"
     },
     "execution_count": 16,
     "metadata": {},
     "output_type": "execute_result"
    }
   ],
   "source": [
    "# What are the 10 most common words?\n",
    "sorted(v.freqs.items(), key=lambda x: x[1], reverse=True)[:10]"
   ]
  },
  {
   "cell_type": "code",
   "execution_count": 17,
   "metadata": {
    "id": "__NDPaCeOT_m"
   },
   "outputs": [
    {
     "data": {
      "text/plain": "9543"
     },
     "execution_count": 17,
     "metadata": {},
     "output_type": "execute_result"
    }
   ],
   "source": [
    "# And how many words are there with frequency 1?\n",
    "# (A fancy name for these words is hapax legomena.)\n",
    "len(list(filter(lambda x: x[1] == 1, v.freqs.items())))"
   ]
  },
  {
   "cell_type": "code",
   "execution_count": 18,
   "metadata": {
    "id": "xKHocugctZGM"
   },
   "outputs": [
    {
     "data": {
      "text/plain": "array(['retold', 'Pompous', 'Topics', 'Cho', 'machinations', '105',\n       'Frodo', 'double-cross', 'ingredients', 'Lame', 'first-class',\n       'simplicity', 'depleted', 'Odd', 'procession', 'manages',\n       'distinctly', 'crap', 'heartbreak', 'hothouse'], dtype='<U27')"
     },
     "execution_count": 18,
     "metadata": {},
     "output_type": "execute_result"
    }
   ],
   "source": [
    "# Finally 20 random words from the vocabulary.\n",
    "# This is a simple way to get a feeling for the data. \n",
    "# You could use the `choice` function from the already imported `random` package\n",
    "np.random.choice(list(v.w2i.keys()), 20)"
   ]
  },
  {
   "cell_type": "markdown",
   "metadata": {
    "id": "nGWaZahKV_dH"
   },
   "source": [
    "#### Sentiment label vocabulary"
   ]
  },
  {
   "cell_type": "code",
   "execution_count": 19,
   "metadata": {
    "colab": {
     "base_uri": "https://localhost:8080/"
    },
    "id": "AmTC-rvQelpl",
    "outputId": "9837d4ce-2323-43c8-bf19-e4ad60ae5564"
   },
   "outputs": [
    {
     "name": "stdout",
     "output_type": "stream",
     "text": [
      "['very negative', 'negative', 'neutral', 'positive', 'very positive']\n",
      "very positive\n"
     ]
    }
   ],
   "source": [
    "# Now let's map the sentiment labels 0-4 to a more readable form\n",
    "i2t = [\"very negative\", \"negative\", \"neutral\", \"positive\", \"very positive\"]\n",
    "print(i2t)\n",
    "print(i2t[4])"
   ]
  },
  {
   "cell_type": "code",
   "execution_count": 20,
   "metadata": {
    "colab": {
     "base_uri": "https://localhost:8080/"
    },
    "id": "D7UI26DP2dr2",
    "outputId": "8e004ef7-8c95-4980-fa9b-c859927192fb"
   },
   "outputs": [
    {
     "name": "stdout",
     "output_type": "stream",
     "text": [
      "OrderedDict([('very negative', 0), ('negative', 1), ('neutral', 2), ('positive', 3), ('very positive', 4)])\n",
      "4\n"
     ]
    }
   ],
   "source": [
    "# And let's also create the opposite mapping.\n",
    "# We won't use a Vocabulary for this (although we could), since the labels\n",
    "# are already numeric.\n",
    "t2i = OrderedDict({p : i for p, i in zip(i2t, range(len(i2t)))})\n",
    "print(t2i)\n",
    "print(t2i['very positive'])"
   ]
  },
  {
   "cell_type": "markdown",
   "metadata": {
    "id": "y0067ax54-rd"
   },
   "source": [
    "## PyTorch\n",
    "\n",
    "In Colab notebooks, the last available version of PyTorch is already installed.The current stable version is 1.7.\n",
    "\n",
    "*For installing PyTorch in your own computer, follow the instructions on [pytorch.org](pytorch.org) instead. This is for Google Colab only.*"
   ]
  },
  {
   "cell_type": "code",
   "execution_count": 21,
   "metadata": {
    "colab": {
     "base_uri": "https://localhost:8080/"
    },
    "id": "qKQMGtkR5KWr",
    "outputId": "ceb01077-6c2c-4e9b-b9e1-8b0ad13b88b7"
   },
   "outputs": [
    {
     "name": "stdout",
     "output_type": "stream",
     "text": [
      "Using torch 1.13.0\n"
     ]
    }
   ],
   "source": [
    "import torch\n",
    "print(\"Using torch\", torch.__version__) # should say 1.7.0+cu101"
   ]
  },
  {
   "cell_type": "code",
   "execution_count": 22,
   "metadata": {
    "id": "mnvPcd_E1xH8"
   },
   "outputs": [],
   "source": [
    "# Let's also import torch.nn, a PyTorch package that  \n",
    "# makes building neural networks more convenient.\n",
    "from torch import nn"
   ]
  },
  {
   "cell_type": "code",
   "execution_count": 23,
   "metadata": {
    "id": "BYt8uTyGCKc7"
   },
   "outputs": [
    {
     "data": {
      "text/plain": "device(type='mps')"
     },
     "execution_count": 23,
     "metadata": {},
     "output_type": "execute_result"
    }
   ],
   "source": [
    "# PyTorch can run on CPU or on Nvidia GPU (video card) using CUDA\n",
    "# This cell selects the GPU if one is available.\n",
    "device_name = 'cuda' if torch.cuda.is_available() else 'cpu'\n",
    "device = torch.device('mps' if torch.backends.mps.is_available() else device_name)\n",
    "device"
   ]
  },
  {
   "cell_type": "code",
   "execution_count": 24,
   "metadata": {
    "id": "2d1VMOOYx1Bw"
   },
   "outputs": [],
   "source": [
    "# Seed manually to make runs reproducible\n",
    "# You need to set this again if you do multiple runs of the same model\n",
    "torch.manual_seed(42)\n",
    "\n",
    "# When running on the CuDNN backend two further options must be set for reproducibility\n",
    "if torch.cuda.is_available():\n",
    "  torch.backends.cudnn.deterministic = True\n",
    "  torch.backends.cudnn.benchmark = False"
   ]
  },
  {
   "cell_type": "markdown",
   "metadata": {
    "id": "uWBTzkuE3CtZ"
   },
   "source": [
    "# BOW"
   ]
  },
  {
   "cell_type": "markdown",
   "metadata": {
    "id": "TBAjYYySOA5W"
   },
   "source": [
    "Our first model is a rather simple neural **bag-of-words (BOW) model**.\n",
    "Unlike the bag-of-words model that you used in the previous lab, where we would look at the presence / frequency of words in a text, here we associate each word with a multi-dimensional vector which expresses what sentiment is conveyed by the word. In particular, our BOW vectors will be of size 5, exactly our number of sentiment classes. \n",
    "\n",
    "To classify a sentence, we **sum** the vectors of the words in the sentence and a bias vector. Because we sum the vectors, we lose word order: that's why we call this a neural bag-of-words model.\n",
    "\n",
    "```\n",
    "this   [0.0, 0.1, 0.1, 0.1, 0.0]\n",
    "movie  [0.0, 0.1, 0.1, 0.2, 0.1]\n",
    "is     [0.0, 0.1, 0.0, 0.0, 0.0]\n",
    "stupid [0.9, 0.5, 0.1, 0.0, 0.0]\n",
    "\n",
    "bias   [0.0, 0.0, 0.0, 0.0, 0.0]\n",
    "--------------------------------\n",
    "sum    [0.9, 0.8, 0.3, 0.3, 0.1]\n",
    "\n",
    "argmax: 0 (very negative)\n",
    "```\n",
    "\n",
    "The **argmax** of this sum is our predicted label.\n",
    "\n",
    "We initialize all vectors *randomly* and train them using cross-entropy loss."
   ]
  },
  {
   "cell_type": "code",
   "execution_count": 25,
   "metadata": {},
   "outputs": [
    {
     "name": "stdout",
     "output_type": "stream",
     "text": [
      "Namespace(iterations=30000, learning_rate=0.0005, batch_size=1, eval_every=300, model='bow', embedding_dim=300, hidden_dim=168, embedding='dataset', root='./data', model_dir='./save/models', resume=None, seed=42, evaluate=False, evaluate_on_length=False, use_subtrees=False, filename='bow_iterations-30000_bsz-1_lr-0.0005', device='mps')\r\n",
      "Beginning training...\r\n",
      "[Iteration 300] Validation acc: 0.0136\r\n",
      "[Iteration 600] Validation acc: 0.0182\r\n",
      "[Iteration 900] Validation acc: 0.0245\r\n",
      "[Iteration 1000] Train loss: 11.480 \r\n",
      "[Iteration 1200] Validation acc: 0.0318\r\n",
      "[Iteration 1500] Validation acc: 0.0391\r\n",
      "[Iteration 1800] Validation acc: 0.0445\r\n",
      "[Iteration 2000] Train loss: 9.961 \r\n",
      "[Iteration 2100] Validation acc: 0.0490\r\n",
      "[Iteration 2400] Validation acc: 0.0554\r\n",
      "[Iteration 2700] Validation acc: 0.0599\r\n",
      "[Iteration 3000] Train loss: 8.519 \r\n",
      "[Iteration 3000] Validation acc: 0.0718\r\n",
      "[Iteration 3300] Validation acc: 0.0781\r\n",
      "[Iteration 3600] Validation acc: 0.0908\r\n",
      "[Iteration 3900] Validation acc: 0.0990\r\n",
      "[Iteration 4000] Train loss: 7.416 \r\n",
      "[Iteration 4200] Validation acc: 0.1054\r\n",
      "[Iteration 4500] Validation acc: 0.1163\r\n",
      "[Iteration 4800] Validation acc: 0.1281\r\n",
      "[Iteration 5000] Train loss: 6.953 \r\n",
      "[Iteration 5100] Validation acc: 0.1381\r\n",
      "[Iteration 5400] Validation acc: 0.1453\r\n",
      "[Iteration 5700] Validation acc: 0.1517\r\n",
      "[Iteration 6000] Train loss: 6.132 \r\n",
      "[Iteration 6000] Validation acc: 0.1535\r\n",
      "[Iteration 6300] Validation acc: 0.1580\r\n",
      "[Iteration 6600] Validation acc: 0.1617\r\n",
      "[Iteration 6900] Validation acc: 0.1689\r\n",
      "[Iteration 7000] Train loss: 5.793 \r\n",
      "[Iteration 7200] Validation acc: 0.1726\r\n",
      "[Iteration 7500] Validation acc: 0.1771\r\n",
      "[Iteration 7800] Validation acc: 0.1817\r\n",
      "[Iteration 8000] Train loss: 5.532 \r\n",
      "[Iteration 8100] Validation acc: 0.1853\r\n",
      "[Iteration 8400] Validation acc: 0.1862\r\n",
      "[Iteration 8700] Validation acc: 0.1862\r\n",
      "[Iteration 9000] Train loss: 2.318 \r\n",
      "[Iteration 9000] Validation acc: 0.1889\r\n",
      "[Iteration 9300] Validation acc: 0.1935\r\n",
      "[Iteration 9600] Validation acc: 0.1935\r\n",
      "[Iteration 9900] Validation acc: 0.1944\r\n",
      "[Iteration 10000] Train loss: 4.952 \r\n",
      "[Iteration 10200] Validation acc: 0.1989\r\n",
      "[Iteration 10500] Validation acc: 0.2016\r\n",
      "[Iteration 10800] Validation acc: 0.2007\r\n",
      "[Iteration 11000] Train loss: 4.883 \r\n",
      "[Iteration 11100] Validation acc: 0.2007\r\n",
      "[Iteration 11400] Validation acc: 0.2016\r\n",
      "[Iteration 11700] Validation acc: 0.1998\r\n",
      "[Iteration 12000] Train loss: 4.788 \r\n",
      "[Iteration 12000] Validation acc: 0.1998\r\n",
      "[Iteration 12300] Validation acc: 0.2035\r\n",
      "[Iteration 12600] Validation acc: 0.2071\r\n",
      "[Iteration 12900] Validation acc: 0.2053\r\n",
      "[Iteration 13000] Train loss: 4.682 \r\n",
      "[Iteration 13200] Validation acc: 0.2125\r\n",
      "[Iteration 13500] Validation acc: 0.2116\r\n",
      "[Iteration 13800] Validation acc: 0.2125\r\n",
      "[Iteration 14000] Train loss: 4.456 \r\n",
      "[Iteration 14100] Validation acc: 0.2125\r\n",
      "[Iteration 14400] Validation acc: 0.2180\r\n",
      "[Iteration 14700] Validation acc: 0.2207\r\n",
      "[Iteration 15000] Train loss: 4.359 \r\n",
      "[Iteration 15000] Validation acc: 0.2198\r\n",
      "[Iteration 15300] Validation acc: 0.2216\r\n",
      "[Iteration 15600] Validation acc: 0.2234\r\n",
      "[Iteration 15900] Validation acc: 0.2252\r\n",
      "[Iteration 16000] Train loss: 4.054 \r\n",
      "[Iteration 16200] Validation acc: 0.2280\r\n",
      "[Iteration 16500] Validation acc: 0.2289\r\n",
      "[Iteration 16800] Validation acc: 0.2271\r\n",
      "[Iteration 17000] Train loss: 4.262 \r\n",
      "[Iteration 17100] Validation acc: 0.2280\r\n",
      "[Iteration 17400] Validation acc: 0.2298\r\n",
      "[Iteration 17700] Validation acc: 0.2262\r\n",
      "[Iteration 18000] Train loss: 3.669 \r\n",
      "[Iteration 18000] Validation acc: 0.2262\r\n",
      "[Iteration 18300] Validation acc: 0.2280\r\n",
      "[Iteration 18600] Validation acc: 0.2289\r\n",
      "[Iteration 18900] Validation acc: 0.2307\r\n",
      "[Iteration 19000] Train loss: 3.826 \r\n",
      "[Iteration 19200] Validation acc: 0.2325\r\n",
      "[Iteration 19500] Validation acc: 0.2316\r\n",
      "[Iteration 19800] Validation acc: 0.2325\r\n",
      "[Iteration 20000] Train loss: 3.884 \r\n",
      "[Iteration 20100] Validation acc: 0.2334\r\n",
      "[Iteration 20400] Validation acc: 0.2325\r\n",
      "[Iteration 20700] Validation acc: 0.2325\r\n",
      "[Iteration 21000] Train loss: 3.772 \r\n",
      "[Iteration 21000] Validation acc: 0.2325\r\n",
      "[Iteration 21300] Validation acc: 0.2307\r\n",
      "[Iteration 21600] Validation acc: 0.2334\r\n",
      "[Iteration 21900] Validation acc: 0.2325\r\n",
      "[Iteration 22000] Train loss: 3.707 \r\n",
      "[Iteration 22200] Validation acc: 0.2334\r\n",
      "[Iteration 22500] Validation acc: 0.2389\r\n",
      "[Iteration 22800] Validation acc: 0.2371\r\n",
      "[Iteration 23000] Train loss: 3.872 \r\n",
      "[Iteration 23100] Validation acc: 0.2371\r\n",
      "[Iteration 23400] Validation acc: 0.2361\r\n",
      "[Iteration 23700] Validation acc: 0.2371\r\n",
      "[Iteration 24000] Train loss: 3.676 \r\n",
      "[Iteration 24000] Validation acc: 0.2389\r\n",
      "[Iteration 24300] Validation acc: 0.2407\r\n",
      "[Iteration 24600] Validation acc: 0.2398\r\n",
      "[Iteration 24900] Validation acc: 0.2425\r\n",
      "[Iteration 25000] Train loss: 3.544 \r\n",
      "[Iteration 25200] Validation acc: 0.2352\r\n",
      "[Iteration 25500] Validation acc: 0.2407\r\n",
      "[Iteration 25800] Validation acc: 0.2389\r\n",
      "[Iteration 26000] Train loss: 1.239 \r\n",
      "[Iteration 26100] Validation acc: 0.2407\r\n",
      "[Iteration 26400] Validation acc: 0.2407\r\n",
      "[Iteration 26700] Validation acc: 0.2425\r\n",
      "[Iteration 27000] Train loss: 3.217 \r\n",
      "[Iteration 27000] Validation acc: 0.2452\r\n",
      "[Iteration 27300] Validation acc: 0.2443\r\n",
      "[Iteration 27600] Validation acc: 0.2443\r\n",
      "[Iteration 27900] Validation acc: 0.2452\r\n",
      "[Iteration 28000] Train loss: 3.346 \r\n",
      "[Iteration 28200] Validation acc: 0.2461\r\n",
      "[Iteration 28500] Validation acc: 0.2470\r\n",
      "[Iteration 28800] Validation acc: 0.2461\r\n",
      "[Iteration 29000] Train loss: 3.331 \r\n",
      "[Iteration 29100] Validation acc: 0.2461\r\n",
      "[Iteration 29400] Validation acc: 0.2489\r\n",
      "[Iteration 29700] Validation acc: 0.2507\r\n",
      "[Iteration 30000] Train loss: 3.274 \r\n",
      "[Iteration 30000] Validation acc: 0.2498\r\n",
      "Beginning evaluation...\r\n",
      "Best model:\r\n",
      "\tIteration: 29699\r\n",
      "\tTrain accuracy: 0.3086\r\n",
      "\tValidation accuracy: 0.2507\r\n",
      "\tTest accuracy: 0.2561\r\n",
      "\r\n",
      "Experimental results:\r\n",
      "defaultdict(<class 'list'>, {'train_losses': [[11.48010582947731, 9.960698804782703, 8.518616019696413, 7.416331069767112, 6.953210611410875, 6.1324265116495695, 5.79297452426319, 5.532248200204558, 2.318125074368465, 4.951548516170653, 4.883237957880578, 4.787973675158188, 4.681899769054465, 4.455839985728992, 4.358790716638488, 4.0541476498163735, 4.262201104150196, 3.6693055135266768, 3.826185054079855, 3.884457640154549, 3.7719482117475303, 3.7068865188983238, 3.872234185703317, 3.67630851499669, 3.5444758753685686, 1.2394793133490893, 3.2172341538604194, 3.3458312140112905, 3.33138015226247, 3.2739443528101004]], 'val_accuracies': [[0.013623978201634877, 0.018165304268846504, 0.02452316076294278, 0.03178928247048138, 0.03905540417801998, 0.04450499545867393, 0.04904632152588556, 0.055404178019981834, 0.05994550408719346, 0.07175295186194369, 0.07811080835603997, 0.09082652134423251, 0.09900090826521345, 0.10535876475930972, 0.11625794732061762, 0.12806539509536785, 0.13805631244323344, 0.14532243415077203, 0.1516802906448683, 0.15349682107175294, 0.15803814713896458, 0.16167120799273388, 0.16893732970027248, 0.17257039055404177, 0.1771117166212534, 0.18165304268846502, 0.18528610354223432, 0.18619436875567666, 0.18619436875567666, 0.18891916439600362, 0.19346049046321526, 0.19346049046321526, 0.1943687556766576, 0.1989100817438692, 0.2016348773841962, 0.20072661217075385, 0.20072661217075385, 0.2016348773841962, 0.19981834695731154, 0.19981834695731154, 0.20345140781108084, 0.20708446866485014, 0.2052679382379655, 0.2125340599455041, 0.21162579473206175, 0.2125340599455041, 0.2125340599455041, 0.21798365122615804, 0.22070844686648503, 0.2198001816530427, 0.22161671207992734, 0.22343324250681199, 0.22524977293369663, 0.22797456857402362, 0.22888283378746593, 0.22706630336058128, 0.22797456857402362, 0.22979109900090827, 0.22615803814713897, 0.22615803814713897, 0.22797456857402362, 0.22888283378746593, 0.23069936421435058, 0.23251589464123523, 0.23160762942779292, 0.23251589464123523, 0.23342415985467757, 0.23251589464123523, 0.23251589464123523, 0.23251589464123523, 0.23069936421435058, 0.23342415985467757, 0.23251589464123523, 0.23342415985467757, 0.23887375113533152, 0.23705722070844687, 0.23705722070844687, 0.23614895549500453, 0.23705722070844687, 0.23887375113533152, 0.24069028156221617, 0.23978201634877383, 0.24250681198910082, 0.23524069028156222, 0.24069028156221617, 0.23887375113533152, 0.24069028156221617, 0.24069028156221617, 0.24250681198910082, 0.2452316076294278, 0.24432334241598547, 0.24432334241598547, 0.2452316076294278, 0.24613987284287012, 0.24704813805631246, 0.24613987284287012, 0.24613987284287012, 0.2488646684831971, 0.2506811989100817, 0.24977293369663942]], 'test_accuracies': [0.25610859728506785]})\r\n"
     ]
    }
   ],
   "source": [
    "!python -u main.py \\\n",
    "    --iterations 30000 \\\n",
    "    --eval_every 300 \\\n",
    "    --learning_rate 0.0005 \\\n",
    "    --model bow \\\n",
    "    --embedding dataset"
   ]
  },
  {
   "cell_type": "markdown",
   "metadata": {
    "id": "E9mB1_XhMPNN"
   },
   "source": [
    "# CBOW"
   ]
  },
  {
   "cell_type": "markdown",
   "metadata": {
    "id": "pWk78FvNMw4o"
   },
   "source": [
    "We now continue with a **continuous bag-of-words (CBOW)** model. (*This is not the same as the word2vec CBOW model!*)\n",
    "\n",
    "It is similar to the BOW model above, but now embeddings can have a dimension of *arbitrary size*. \n",
    "This means that we can choose a higher dimensionality and learn more aspects of each word. We will still sum word vectors to get a sentence representation, but now the size of the resulting vector will no longer correspond to the number of sentiment classes. \n",
    "\n",
    "So to turn the size of our summed vector into the number of output classes, we can *learn* a parameter matrix $W$ and multiply it by the sum vector $x$: $$Wx$$\n",
    "If the size of $x$ is `d x 1`, we can set $W$ to be `5 x d`, so that the output of the matrix multiplication will be the of the desired size, `5 x 1`. Then, just like for the BOW model, we can obtain a prediction using the argmax function."
   ]
  },
  {
   "cell_type": "markdown",
   "metadata": {
    "id": "gIjrCPfCwsXI"
   },
   "source": [
    "## Exercise: implement and train the CBOW model\n",
    "\n",
    "Write a class `CBOW` that:\n",
    "\n",
    "- has word embeddings with size 300\n",
    "- sums the word vectors for the input words (just like in `BOW`)\n",
    "- projects the resulting vector down to 5 units using a linear layer and a bias term (check out `nn.Linear`)\n",
    "\n",
    "Train your CBOW model and plot the validation accuracy and training loss over time."
   ]
  },
  {
   "cell_type": "code",
   "execution_count": 26,
   "metadata": {
    "id": "PEV22aR2MP0Q"
   },
   "outputs": [
    {
     "name": "stdout",
     "output_type": "stream",
     "text": [
      "Namespace(iterations=30000, learning_rate=0.0005, batch_size=1, eval_every=300, model='cbow', embedding_dim=300, hidden_dim=168, embedding='dataset', root='./data', model_dir='./save/models', resume=None, seed=42, evaluate=False, evaluate_on_length=False, use_subtrees=False, filename='cbow_iterations-30000_bsz-1_lr-0.0005', device='mps')\r\n",
      "Beginning training...\r\n",
      "[Iteration 300] Validation acc: 0.2207\r\n",
      "[Iteration 600] Validation acc: 0.2280\r\n",
      "[Iteration 900] Validation acc: 0.2380\r\n",
      "[Iteration 1000] Train loss: 2.699 \r\n",
      "[Iteration 1200] Validation acc: 0.2207\r\n",
      "[Iteration 1500] Validation acc: 0.2098\r\n",
      "[Iteration 1800] Validation acc: 0.2280\r\n",
      "[Iteration 2000] Train loss: 2.286 \r\n",
      "[Iteration 2100] Validation acc: 0.2480\r\n",
      "[Iteration 2400] Validation acc: 0.2616\r\n",
      "[Iteration 2700] Validation acc: 0.2743\r\n",
      "[Iteration 3000] Train loss: 2.079 \r\n",
      "[Iteration 3000] Validation acc: 0.2552\r\n",
      "[Iteration 3300] Validation acc: 0.2643\r\n",
      "[Iteration 3600] Validation acc: 0.2616\r\n",
      "[Iteration 3900] Validation acc: 0.3006\r\n",
      "[Iteration 4000] Train loss: 2.074 \r\n",
      "[Iteration 4200] Validation acc: 0.2870\r\n",
      "[Iteration 4500] Validation acc: 0.3052\r\n",
      "[Iteration 4800] Validation acc: 0.3015\r\n",
      "[Iteration 5000] Train loss: 1.958 \r\n",
      "[Iteration 5100] Validation acc: 0.2861\r\n",
      "[Iteration 5400] Validation acc: 0.2952\r\n",
      "[Iteration 5700] Validation acc: 0.2761\r\n",
      "[Iteration 6000] Train loss: 1.900 \r\n",
      "[Iteration 6000] Validation acc: 0.2943\r\n",
      "[Iteration 6300] Validation acc: 0.2861\r\n",
      "[Iteration 6600] Validation acc: 0.2961\r\n",
      "[Iteration 6900] Validation acc: 0.3043\r\n",
      "[Iteration 7000] Train loss: 1.845 \r\n",
      "[Iteration 7200] Validation acc: 0.3043\r\n",
      "[Iteration 7500] Validation acc: 0.2988\r\n",
      "[Iteration 7800] Validation acc: 0.3106\r\n",
      "[Iteration 8000] Train loss: 1.826 \r\n",
      "[Iteration 8100] Validation acc: 0.2952\r\n",
      "[Iteration 8400] Validation acc: 0.2888\r\n",
      "[Iteration 8700] Validation acc: 0.3115\r\n",
      "[Iteration 9000] Train loss: 0.738 \r\n",
      "[Iteration 9000] Validation acc: 0.3188\r\n",
      "[Iteration 9300] Validation acc: 0.3088\r\n",
      "[Iteration 9600] Validation acc: 0.3315\r\n",
      "[Iteration 9900] Validation acc: 0.3215\r\n",
      "[Iteration 10000] Train loss: 1.617 \r\n",
      "[Iteration 10200] Validation acc: 0.3261\r\n",
      "[Iteration 10500] Validation acc: 0.3451\r\n",
      "[Iteration 10800] Validation acc: 0.3315\r\n",
      "[Iteration 11000] Train loss: 1.556 \r\n",
      "[Iteration 11100] Validation acc: 0.3306\r\n",
      "[Iteration 11400] Validation acc: 0.3297\r\n",
      "[Iteration 11700] Validation acc: 0.3606\r\n",
      "[Iteration 12000] Train loss: 1.614 \r\n",
      "[Iteration 12000] Validation acc: 0.3488\r\n",
      "[Iteration 12300] Validation acc: 0.3270\r\n",
      "[Iteration 12600] Validation acc: 0.3215\r\n",
      "[Iteration 12900] Validation acc: 0.3261\r\n",
      "[Iteration 13000] Train loss: 1.626 \r\n",
      "[Iteration 13200] Validation acc: 0.3433\r\n",
      "[Iteration 13500] Validation acc: 0.3515\r\n",
      "[Iteration 13800] Validation acc: 0.3533\r\n",
      "[Iteration 14000] Train loss: 1.632 \r\n",
      "[Iteration 14100] Validation acc: 0.3361\r\n",
      "[Iteration 14400] Validation acc: 0.3306\r\n",
      "[Iteration 14700] Validation acc: 0.3379\r\n",
      "[Iteration 15000] Train loss: 1.715 \r\n",
      "[Iteration 15000] Validation acc: 0.3243\r\n",
      "[Iteration 15300] Validation acc: 0.3433\r\n",
      "[Iteration 15600] Validation acc: 0.3397\r\n",
      "[Iteration 15900] Validation acc: 0.3324\r\n",
      "[Iteration 16000] Train loss: 1.636 \r\n",
      "[Iteration 16200] Validation acc: 0.3342\r\n",
      "[Iteration 16500] Validation acc: 0.3342\r\n",
      "[Iteration 16800] Validation acc: 0.3170\r\n",
      "[Iteration 17000] Train loss: 1.644 \r\n",
      "[Iteration 17100] Validation acc: 0.3115\r\n",
      "[Iteration 17400] Validation acc: 0.3361\r\n",
      "[Iteration 17700] Validation acc: 0.3451\r\n",
      "[Iteration 18000] Train loss: 1.217 \r\n",
      "[Iteration 18000] Validation acc: 0.3188\r\n",
      "[Iteration 18300] Validation acc: 0.3397\r\n",
      "[Iteration 18600] Validation acc: 0.3606\r\n",
      "[Iteration 18900] Validation acc: 0.3170\r\n",
      "[Iteration 19000] Train loss: 1.258 \r\n",
      "[Iteration 19200] Validation acc: 0.3270\r\n",
      "[Iteration 19500] Validation acc: 0.3288\r\n",
      "[Iteration 19800] Validation acc: 0.3288\r\n",
      "[Iteration 20000] Train loss: 1.244 \r\n",
      "[Iteration 20100] Validation acc: 0.3479\r\n",
      "[Iteration 20400] Validation acc: 0.3179\r\n",
      "[Iteration 20700] Validation acc: 0.3297\r\n",
      "[Iteration 21000] Train loss: 1.297 \r\n",
      "[Iteration 21000] Validation acc: 0.3497\r\n",
      "[Iteration 21300] Validation acc: 0.3379\r\n",
      "[Iteration 21600] Validation acc: 0.3424\r\n",
      "[Iteration 21900] Validation acc: 0.3506\r\n",
      "[Iteration 22000] Train loss: 1.327 \r\n",
      "[Iteration 22200] Validation acc: 0.3597\r\n",
      "[Iteration 22500] Validation acc: 0.3579\r\n",
      "[Iteration 22800] Validation acc: 0.3361\r\n",
      "[Iteration 23000] Train loss: 1.378 \r\n",
      "[Iteration 23100] Validation acc: 0.3370\r\n",
      "[Iteration 23400] Validation acc: 0.3506\r\n",
      "[Iteration 23700] Validation acc: 0.3542\r\n",
      "[Iteration 24000] Train loss: 1.250 \r\n",
      "[Iteration 24000] Validation acc: 0.3497\r\n",
      "[Iteration 24300] Validation acc: 0.3669\r\n",
      "[Iteration 24600] Validation acc: 0.3688\r\n",
      "[Iteration 24900] Validation acc: 0.3724\r\n",
      "[Iteration 25000] Train loss: 1.406 \r\n",
      "[Iteration 25200] Validation acc: 0.3479\r\n",
      "[Iteration 25500] Validation acc: 0.3488\r\n",
      "[Iteration 25800] Validation acc: 0.3533\r\n",
      "[Iteration 26000] Train loss: 0.345 \r\n",
      "[Iteration 26100] Validation acc: 0.3688\r\n",
      "[Iteration 26400] Validation acc: 0.3688\r\n",
      "[Iteration 26700] Validation acc: 0.3678\r\n",
      "[Iteration 27000] Train loss: 0.931 \r\n",
      "[Iteration 27000] Validation acc: 0.3824\r\n",
      "[Iteration 27300] Validation acc: 0.3588\r\n",
      "[Iteration 27600] Validation acc: 0.3569\r\n",
      "[Iteration 27900] Validation acc: 0.3524\r\n",
      "[Iteration 28000] Train loss: 1.041 \r\n",
      "[Iteration 28200] Validation acc: 0.3569\r\n",
      "[Iteration 28500] Validation acc: 0.3406\r\n",
      "[Iteration 28800] Validation acc: 0.3533\r\n",
      "[Iteration 29000] Train loss: 1.010 \r\n",
      "[Iteration 29100] Validation acc: 0.3388\r\n",
      "[Iteration 29400] Validation acc: 0.3415\r\n",
      "[Iteration 29700] Validation acc: 0.3597\r\n",
      "[Iteration 30000] Train loss: 1.053 \r\n",
      "[Iteration 30000] Validation acc: 0.3524\r\n",
      "Beginning evaluation...\r\n",
      "Best model:\r\n",
      "\tIteration: 26999\r\n",
      "\tTrain accuracy: 0.6639\r\n",
      "\tValidation accuracy: 0.3824\r\n",
      "\tTest accuracy: 0.3692\r\n",
      "\r\n",
      "Experimental results:\r\n",
      "defaultdict(<class 'list'>, {'train_losses': [[2.6985357930311, 2.285758427218534, 2.0785004709130153, 2.073791974266525, 1.9583894704697886, 1.9000110404838342, 1.8450728855598717, 1.8263388444781303, 0.7378238279549405, 1.6171776756090113, 1.5556395315839908, 1.6142107200251194, 1.6257489205789752, 1.6319022465413435, 1.7149042511500603, 1.6364394007015508, 1.6438267381563783, 1.216711709216528, 1.258440592630781, 1.2441772332461551, 1.296608849039505, 1.327099792656805, 1.3775231480656511, 1.2495201604797912, 1.405885242205246, 0.3453012168041896, 0.9311630016551935, 1.0410330662027045, 1.0103857568962613, 1.0526520274602136]], 'val_accuracies': [[0.22070844686648503, 0.22797456857402362, 0.23796548592188918, 0.22070844686648503, 0.2098092643051771, 0.22797456857402362, 0.24795640326975477, 0.2615803814713896, 0.2742960944595822, 0.25522252497729336, 0.26430517711171664, 0.2615803814713896, 0.3006357856494096, 0.28701180744777477, 0.30517711171662126, 0.30154405086285196, 0.28610354223433243, 0.29518619436875565, 0.2761126248864669, 0.29427792915531337, 0.28610354223433243, 0.296094459582198, 0.3042688465031789, 0.3042688465031789, 0.298819255222525, 0.3106267029972752, 0.29518619436875565, 0.2888283378746594, 0.3115349682107175, 0.3188010899182561, 0.30881017257039056, 0.3315168029064487, 0.3215258855585831, 0.3260672116257947, 0.34514078110808355, 0.3315168029064487, 0.33060853769300635, 0.329700272479564, 0.3605812897366031, 0.34877384196185285, 0.32697547683923706, 0.3215258855585831, 0.3260672116257947, 0.34332425068119893, 0.35149863760217986, 0.3533151680290645, 0.33605812897366033, 0.33060853769300635, 0.33787465940054495, 0.3242506811989101, 0.34332425068119893, 0.33969118982742963, 0.33242506811989103, 0.33424159854677565, 0.33424159854677565, 0.3169845594913715, 0.3115349682107175, 0.33605812897366033, 0.34514078110808355, 0.3188010899182561, 0.33969118982742963, 0.3605812897366031, 0.3169845594913715, 0.32697547683923706, 0.32879200726612173, 0.32879200726612173, 0.3478655767484105, 0.3178928247048138, 0.329700272479564, 0.3496821071752952, 0.33787465940054495, 0.3424159854677566, 0.3505903723887375, 0.35967302452316074, 0.3578564940962761, 0.33605812897366033, 0.3369663941871026, 0.3505903723887375, 0.3542234332425068, 0.3496821071752952, 0.36693914623069934, 0.368755676657584, 0.3723887375113533, 0.3478655767484105, 0.34877384196185285, 0.3533151680290645, 0.368755676657584, 0.368755676657584, 0.3678474114441417, 0.3823796548592189, 0.35876475930971846, 0.3569482288828338, 0.35240690281562215, 0.3569482288828338, 0.3405994550408719, 0.3533151680290645, 0.3387829246139873, 0.34150772025431425, 0.35967302452316074, 0.35240690281562215]], 'test_accuracies': [0.36923076923076925]})\r\n"
     ]
    }
   ],
   "source": [
    "!python -u main.py \\\n",
    "    --iterations 30000 \\\n",
    "    --eval_every 300 \\\n",
    "    --embedding_dim 300 \\\n",
    "    --learning_rate 0.0005 \\\n",
    "    --model cbow \\\n",
    "    --embedding dataset "
   ]
  },
  {
   "cell_type": "markdown",
   "metadata": {
    "id": "zpFt_Fo2TdN0"
   },
   "source": [
    "# Deep CBOW"
   ]
  },
  {
   "cell_type": "markdown",
   "metadata": {
    "id": "iZanOMesTfEZ"
   },
   "source": [
    "To see if we can squeeze some more performance out of the CBOW model, we can make it deeper and non-linear by adding more layers and, e.g., tanh-activations.\n",
    "By using more parameters we can learn more aspects of the data, and by using more layers and non-linearities, we can try to learn a more complex function. \n",
    "This is not something that always works. If the input-output mapping of your data is simple, then a complicated function could easily overfit on your training set, thereby leading to poor generalization. \n",
    "\n",
    "#### Exercise: write Deep CBOW class and train it\n",
    "\n",
    "Write a class `DeepCBOW`.\n",
    "\n",
    "In your code, make sure that your `output_layer` consists of the following:\n",
    "- A linear transformation from E units to D units.\n",
    "- A Tanh activation\n",
    "- A linear transformation from D units to D units\n",
    "- A Tanh activation\n",
    "- A linear transformation from D units to 5 units (our output classes).\n",
    "\n",
    "E is the size of the word embeddings (please use E=300) and D for the size of a hidden layer (please use D=100).\n",
    "\n",
    "We recommend using [nn.Sequential](https://pytorch.org/docs/stable/nn.html?highlight=sequential#torch.nn.Sequential) to implement this exercise."
   ]
  },
  {
   "cell_type": "code",
   "execution_count": 27,
   "metadata": {
    "id": "l8Z1igvpTrZq"
   },
   "outputs": [
    {
     "name": "stdout",
     "output_type": "stream",
     "text": [
      "Namespace(iterations=30000, learning_rate=0.0005, batch_size=1, eval_every=300, model='deep_cbow', embedding_dim=300, hidden_dim=100, embedding='dataset', root='./data', model_dir='./save/models', resume=None, seed=42, evaluate=False, evaluate_on_length=False, use_subtrees=False, filename='deep_cbow_iterations-30000_bsz-1_lr-0.0005', device='mps')\r\n",
      "Beginning training...\r\n",
      "[Iteration 300] Validation acc: 0.2589\r\n",
      "[Iteration 600] Validation acc: 0.2407\r\n",
      "[Iteration 900] Validation acc: 0.2952\r\n",
      "[Iteration 1000] Train loss: 1.591 \r\n",
      "[Iteration 1200] Validation acc: 0.2997\r\n",
      "[Iteration 1500] Validation acc: 0.2861\r\n",
      "[Iteration 1800] Validation acc: 0.2816\r\n",
      "[Iteration 2000] Train loss: 1.570 \r\n",
      "[Iteration 2100] Validation acc: 0.2434\r\n",
      "[Iteration 2400] Validation acc: 0.2834\r\n",
      "[Iteration 2700] Validation acc: 0.2988\r\n",
      "[Iteration 3000] Train loss: 1.561 \r\n",
      "[Iteration 3000] Validation acc: 0.2952\r\n",
      "[Iteration 3300] Validation acc: 0.3070\r\n",
      "[Iteration 3600] Validation acc: 0.3061\r\n",
      "[Iteration 3900] Validation acc: 0.2888\r\n",
      "[Iteration 4000] Train loss: 1.560 \r\n",
      "[Iteration 4200] Validation acc: 0.3333\r\n",
      "[Iteration 4500] Validation acc: 0.3152\r\n",
      "[Iteration 4800] Validation acc: 0.2943\r\n",
      "[Iteration 5000] Train loss: 1.552 \r\n",
      "[Iteration 5100] Validation acc: 0.3315\r\n",
      "[Iteration 5400] Validation acc: 0.3043\r\n",
      "[Iteration 5700] Validation acc: 0.3143\r\n",
      "[Iteration 6000] Train loss: 1.508 \r\n",
      "[Iteration 6000] Validation acc: 0.3179\r\n",
      "[Iteration 6300] Validation acc: 0.3197\r\n",
      "[Iteration 6600] Validation acc: 0.2988\r\n",
      "[Iteration 6900] Validation acc: 0.2652\r\n",
      "[Iteration 7000] Train loss: 1.520 \r\n",
      "[Iteration 7200] Validation acc: 0.3124\r\n",
      "[Iteration 7500] Validation acc: 0.3261\r\n",
      "[Iteration 7800] Validation acc: 0.3134\r\n",
      "[Iteration 8000] Train loss: 1.514 \r\n",
      "[Iteration 8100] Validation acc: 0.3252\r\n",
      "[Iteration 8400] Validation acc: 0.3333\r\n",
      "[Iteration 8700] Validation acc: 0.3233\r\n",
      "[Iteration 9000] Train loss: 0.622 \r\n",
      "[Iteration 9000] Validation acc: 0.3115\r\n",
      "[Iteration 9300] Validation acc: 0.3297\r\n",
      "[Iteration 9600] Validation acc: 0.3097\r\n",
      "[Iteration 9900] Validation acc: 0.3351\r\n",
      "[Iteration 10000] Train loss: 1.365 \r\n",
      "[Iteration 10200] Validation acc: 0.3170\r\n",
      "[Iteration 10500] Validation acc: 0.3479\r\n",
      "[Iteration 10800] Validation acc: 0.3179\r\n",
      "[Iteration 11000] Train loss: 1.393 \r\n",
      "[Iteration 11100] Validation acc: 0.2970\r\n",
      "[Iteration 11400] Validation acc: 0.3315\r\n",
      "[Iteration 11700] Validation acc: 0.3588\r\n",
      "[Iteration 12000] Train loss: 1.373 \r\n",
      "[Iteration 12000] Validation acc: 0.3152\r\n",
      "[Iteration 12300] Validation acc: 0.3388\r\n",
      "[Iteration 12600] Validation acc: 0.3388\r\n",
      "[Iteration 12900] Validation acc: 0.3497\r\n",
      "[Iteration 13000] Train loss: 1.342 \r\n",
      "[Iteration 13200] Validation acc: 0.3488\r\n",
      "[Iteration 13500] Validation acc: 0.3215\r\n",
      "[Iteration 13800] Validation acc: 0.3370\r\n",
      "[Iteration 14000] Train loss: 1.419 \r\n",
      "[Iteration 14100] Validation acc: 0.3460\r\n",
      "[Iteration 14400] Validation acc: 0.3569\r\n",
      "[Iteration 14700] Validation acc: 0.3615\r\n",
      "[Iteration 15000] Train loss: 1.364 \r\n",
      "[Iteration 15000] Validation acc: 0.3633\r\n",
      "[Iteration 15300] Validation acc: 0.3533\r\n",
      "[Iteration 15600] Validation acc: 0.3560\r\n",
      "[Iteration 15900] Validation acc: 0.3724\r\n",
      "[Iteration 16000] Train loss: 1.321 \r\n",
      "[Iteration 16200] Validation acc: 0.3451\r\n",
      "[Iteration 16500] Validation acc: 0.3479\r\n",
      "[Iteration 16800] Validation acc: 0.3560\r\n",
      "[Iteration 17000] Train loss: 1.364 \r\n",
      "[Iteration 17100] Validation acc: 0.3288\r\n",
      "[Iteration 17400] Validation acc: 0.3424\r\n",
      "[Iteration 17700] Validation acc: 0.3497\r\n",
      "[Iteration 18000] Train loss: 1.063 \r\n",
      "[Iteration 18000] Validation acc: 0.3542\r\n",
      "[Iteration 18300] Validation acc: 0.3560\r\n",
      "[Iteration 18600] Validation acc: 0.3579\r\n",
      "[Iteration 18900] Validation acc: 0.3460\r\n",
      "[Iteration 19000] Train loss: 1.176 \r\n",
      "[Iteration 19200] Validation acc: 0.3660\r\n",
      "[Iteration 19500] Validation acc: 0.3488\r\n",
      "[Iteration 19800] Validation acc: 0.3397\r\n",
      "[Iteration 20000] Train loss: 1.155 \r\n",
      "[Iteration 20100] Validation acc: 0.3669\r\n",
      "[Iteration 20400] Validation acc: 0.3697\r\n",
      "[Iteration 20700] Validation acc: 0.3361\r\n",
      "[Iteration 21000] Train loss: 1.185 \r\n",
      "[Iteration 21000] Validation acc: 0.3451\r\n",
      "[Iteration 21300] Validation acc: 0.3551\r\n",
      "[Iteration 21600] Validation acc: 0.3615\r\n",
      "[Iteration 21900] Validation acc: 0.3506\r\n",
      "[Iteration 22000] Train loss: 1.168 \r\n",
      "[Iteration 22200] Validation acc: 0.3542\r\n",
      "[Iteration 22500] Validation acc: 0.3470\r\n",
      "[Iteration 22800] Validation acc: 0.3724\r\n",
      "[Iteration 23000] Train loss: 1.207 \r\n",
      "[Iteration 23100] Validation acc: 0.3569\r\n",
      "[Iteration 23400] Validation acc: 0.3333\r\n",
      "[Iteration 23700] Validation acc: 0.3706\r\n",
      "[Iteration 24000] Train loss: 1.178 \r\n",
      "[Iteration 24000] Validation acc: 0.3669\r\n",
      "[Iteration 24300] Validation acc: 0.3524\r\n",
      "[Iteration 24600] Validation acc: 0.3606\r\n",
      "[Iteration 24900] Validation acc: 0.3669\r\n",
      "[Iteration 25000] Train loss: 1.216 \r\n",
      "[Iteration 25200] Validation acc: 0.3760\r\n",
      "[Iteration 25500] Validation acc: 0.3433\r\n",
      "[Iteration 25800] Validation acc: 0.3588\r\n",
      "[Iteration 26000] Train loss: 0.338 \r\n",
      "[Iteration 26100] Validation acc: 0.3688\r\n",
      "[Iteration 26400] Validation acc: 0.3506\r\n",
      "[Iteration 26700] Validation acc: 0.3451\r\n",
      "[Iteration 27000] Train loss: 0.958 \r\n",
      "[Iteration 27000] Validation acc: 0.3660\r\n",
      "[Iteration 27300] Validation acc: 0.3470\r\n",
      "[Iteration 27600] Validation acc: 0.3488\r\n",
      "[Iteration 27900] Validation acc: 0.3560\r\n",
      "[Iteration 28000] Train loss: 1.023 \r\n",
      "[Iteration 28200] Validation acc: 0.3488\r\n",
      "[Iteration 28500] Validation acc: 0.3633\r\n",
      "[Iteration 28800] Validation acc: 0.3742\r\n",
      "[Iteration 29000] Train loss: 0.992 \r\n",
      "[Iteration 29100] Validation acc: 0.3633\r\n",
      "[Iteration 29400] Validation acc: 0.3479\r\n",
      "[Iteration 29700] Validation acc: 0.3651\r\n",
      "[Iteration 30000] Train loss: 0.976 \r\n",
      "[Iteration 30000] Validation acc: 0.3515\r\n",
      "Beginning evaluation...\r\n",
      "Best model:\r\n",
      "\tIteration: 25199\r\n",
      "\tTrain accuracy: 0.5993\r\n",
      "\tValidation accuracy: 0.3760\r\n",
      "\tTest accuracy: 0.3606\r\n",
      "\r\n",
      "Experimental results:\r\n",
      "defaultdict(<class 'list'>, {'train_losses': [[1.5913106914758681, 1.5697605596780777, 1.5606045272946358, 1.5602580912113189, 1.5515814779996873, 1.5080210100114346, 1.5202731374502183, 1.5141647510826588, 0.6220416315197944, 1.36473383051157, 1.3934372856020927, 1.3725917874276639, 1.3424612027406693, 1.4190587214231491, 1.3641894527971745, 1.3206535146534444, 1.3638421091139317, 1.0626158977001905, 1.1764328661113976, 1.155130298100412, 1.1847565113827587, 1.1680117909312249, 1.207061971858144, 1.178434398174286, 1.216228949174285, 0.338252049125731, 0.9577100085243583, 1.023148388080299, 0.9921018958427011, 0.9764106479100882]], 'val_accuracies': [[0.25885558583106266, 0.24069028156221617, 0.29518619436875565, 0.2997275204359673, 0.28610354223433243, 0.2815622161671208, 0.24341507720254316, 0.28337874659400547, 0.298819255222525, 0.29518619436875565, 0.3069936421435059, 0.3060853769300636, 0.2888283378746594, 0.3333333333333333, 0.3151680290644868, 0.29427792915531337, 0.3315168029064487, 0.3042688465031789, 0.3142597638510445, 0.3178928247048138, 0.31970935513169846, 0.298819255222525, 0.2652134423251589, 0.31244323342415986, 0.3260672116257947, 0.3133514986376022, 0.32515894641235243, 0.3333333333333333, 0.32334241598546776, 0.3115349682107175, 0.329700272479564, 0.3097184377838329, 0.335149863760218, 0.3169845594913715, 0.3478655767484105, 0.3178928247048138, 0.2970027247956403, 0.3315168029064487, 0.35876475930971846, 0.3151680290644868, 0.3387829246139873, 0.3387829246139873, 0.3496821071752952, 0.34877384196185285, 0.3215258855585831, 0.3369663941871026, 0.3460490463215259, 0.3569482288828338, 0.3614895549500454, 0.36330608537693004, 0.3533151680290645, 0.35603996366939145, 0.3723887375113533, 0.34514078110808355, 0.3478655767484105, 0.35603996366939145, 0.32879200726612173, 0.3424159854677566, 0.3496821071752952, 0.3542234332425068, 0.35603996366939145, 0.3578564940962761, 0.3460490463215259, 0.36603088101725706, 0.34877384196185285, 0.33969118982742963, 0.36693914623069934, 0.36966394187102636, 0.33605812897366033, 0.34514078110808355, 0.35513169845594916, 0.3614895549500454, 0.3505903723887375, 0.3542234332425068, 0.3469573115349682, 0.3723887375113533, 0.3569482288828338, 0.3333333333333333, 0.37057220708446864, 0.36693914623069934, 0.35240690281562215, 0.3605812897366031, 0.36693914623069934, 0.3760217983651226, 0.34332425068119893, 0.35876475930971846, 0.368755676657584, 0.3505903723887375, 0.34514078110808355, 0.36603088101725706, 0.3469573115349682, 0.34877384196185285, 0.35603996366939145, 0.34877384196185285, 0.36330608537693004, 0.37420526793823794, 0.36330608537693004, 0.3478655767484105, 0.3651226158038147, 0.35149863760217986]], 'test_accuracies': [0.3606334841628959]})\r\n"
     ]
    }
   ],
   "source": [
    "!python -u main.py \\\n",
    "    --iterations 30000 \\\n",
    "    --eval_every 300 \\\n",
    "    --embedding_dim 300 \\\n",
    "    --hidden_dim 100 \\\n",
    "    --learning_rate 0.0005 \\\n",
    "    --model deep_cbow \\\n",
    "    --embedding dataset "
   ]
  },
  {
   "cell_type": "markdown",
   "metadata": {
    "id": "MQZ5flHwiiHY"
   },
   "source": [
    "# Pre-trained word embeddings"
   ]
  },
  {
   "cell_type": "markdown",
   "metadata": {
    "id": "9NX35vecmHy6"
   },
   "source": [
    "The Stanford Sentiment Treebank is a rather small data set, since it required fine-grained manual annotatation. This makes it difficult for the Deep CBOW model to learn good word embeddings, i.e. to learn good word representations for the words in our vocabulary.\n",
    "In fact, the only error signal that the network receives is from predicting the sentiment of entire sentences!\n",
    "\n",
    "To start off with better word representations, we can download **pre-trained word embeddings**. \n",
    "You can choose which pre-trained word embeddings to use:\n",
    "\n",
    "- **GloVe**. The \"original\" Stanford Sentiment classification [paper](http://aclweb.org/anthology/P/P15/P15-1150.pdf) used Glove embeddings, which are just another method (like *word2vec*) to get word embeddings from unannotated text. Glove is described in the following paper which you should cite if you use them:\n",
    "> Jeffrey Pennington, Richard Socher, and Christopher Manning. [\"Glove: Global vectors for word representation.\"](https://nlp.stanford.edu/pubs/glove.pdf) EMNLP 2014. \n",
    "\n",
    "- **Word2Vec**. This is the method that you learned about in class, described in:\n",
    "> Mikolov, Tomas, et al. [\"Distributed representations of words and phrases and their compositionality.\"](https://papers.nips.cc/paper/5021-distributed-representations-of-words-and-phrases-and-their-compositionality.pdf) Advances in neural information processing systems. 2013.\n",
    "\n",
    "Using these pre-trained word embeddings, we can initialize our word embedding lookup table and start form a point where similar words are already close to one another in the distributional semantic space. \n",
    "\n",
    "You can choose to keep the word embeddings **fixed** or to train them further, specialising them to the task at hand.\n",
    "We will keep them fixed for now.\n",
    "\n",
    "For the purposes of this lab, it is enough if you understand how word2vec works (whichever vectors you use), but if you are interested, we encourage you to also check out the GloVe paper.\n",
    "\n",
    "You can either download the word2vec vectors, or the Glove vectors.\n",
    "If you want to compare your results to the Stanford paper later on, then you should use Glove. \n",
    "**At the end of this lab you have the option to compare which vectors give you the best performance. For now, simply choose one of them and continue with that.**\n",
    "\n",
    "[**OPTIONAL in case you don't want to mount Google Drive:** instead of running all the 5 boxes below, you can 1) download the GloVe and word2vec in your local machine, 2) upload them on your Drive folder (\"My Drive\"). Then, uncomment the first 2 lines in box 6 before writing your code!]\n"
   ]
  },
  {
   "cell_type": "code",
   "execution_count": 28,
   "metadata": {
    "id": "lGYr02WWO993"
   },
   "outputs": [],
   "source": [
    "# This downloads the Glove 840B 300d embeddings.\n",
    "# The original file is at http://nlp.stanford.edu/data/glove.840B.300d.zip\n",
    "# Since that file is 2GB, we provide you with a *filtered version*\n",
    "# which contains all the words you need for this data set.\n",
    "\n",
    "# You only need to do this once.\n",
    "# Please comment this cell out after downloading.\n",
    "# \n",
    "# !wget https://gist.githubusercontent.com/bastings/b094de2813da58056a05e8e7950d4ad1/raw/3fbd3976199c2b88de2ae62afc0ecc6f15e6f7ce/glove.840B.300d.sst.txt"
   ]
  },
  {
   "cell_type": "code",
   "execution_count": 29,
   "metadata": {
    "id": "6NLsgFGiTjmI"
   },
   "outputs": [],
   "source": [
    "# This downloads the word2vec 300D Google News vectors \n",
    "# The file has been truncated to only contain words that appear in our data set.\n",
    "# You can find the original file here: https://code.google.com/archive/p/word2vec/\n",
    "\n",
    "# You only need to do this once.\n",
    "# Please comment this out after downloading.\n",
    "# !wget https://gist.githubusercontent.com/bastings/4d1c346c68969b95f2c34cfbc00ba0a0/raw/76b4fefc9ef635a79d0d8002522543bc53ca2683/googlenews.word2vec.300d.txt"
   ]
  },
  {
   "cell_type": "code",
   "execution_count": 30,
   "metadata": {
    "cellView": "both",
    "id": "GXBITzPRQUQb"
   },
   "outputs": [],
   "source": [
    "# Mount Google Drive (to save the downloaded files)\n",
    "# from google.colab import drive\n",
    "# drive.mount('/gdrive')"
   ]
  },
  {
   "cell_type": "code",
   "execution_count": 31,
   "metadata": {
    "id": "uFvzPuiKSCbl"
   },
   "outputs": [],
   "source": [
    "# Copy word vectors *to* Google Drive\n",
    "\n",
    "# You only need to do this once.\n",
    "# Please comment this out after running it. \n",
    "# !cp \"glove.840B.300d.sst.txt\" \"/gdrive/My Drive/\"\n",
    "# !cp \"googlenews.word2vec.300d.txt\" \"/gdrive/My Drive/\""
   ]
  },
  {
   "cell_type": "code",
   "execution_count": 32,
   "metadata": {
    "id": "kUMH0bM6BuY9"
   },
   "outputs": [],
   "source": [
    "# If you copied the word vectors to your Drive before,\n",
    "# here is where you copy them back to the Colab notebook.\n",
    "\n",
    "# Copy Glove vectors *from* Google Drive\n",
    "# !cp \"/gdrive/My Drive/glove.840B.300d.sst.txt\" .\n",
    "# !cp \"/gdrive/My Drive/googlenews.word2vec.300d.txt\" ."
   ]
  },
  {
   "cell_type": "code",
   "execution_count": 33,
   "metadata": {
    "id": "xcpkoh6PIjfe"
   },
   "outputs": [],
   "source": [
    "# Uncomment these 2 lines below if went for the OPTIONAL method described above\n",
    "# !cp \"glove.840B.300d.sst.txt\" \"./\"\n",
    "# !cp \"googlenews.word2vec.300d.txt\" \"./\""
   ]
  },
  {
   "cell_type": "markdown",
   "metadata": {
    "id": "MX2GJVHILM8n"
   },
   "source": [
    "At this point you have the pre-trained word embedding files, but what do they look like?"
   ]
  },
  {
   "cell_type": "code",
   "execution_count": 34,
   "metadata": {
    "id": "ChsChH14Ruxn"
   },
   "outputs": [
    {
     "name": "stdout",
     "output_type": "stream",
     "text": [
      ", -0.082752 0.67204 -0.14987 -0.064983 0.056491 0.40228 0.0027747 -0.3311 -0.30691 2.0817 0.031819 0.013643 0.30265 0.0071297 -0.5819 -0.2774 -0.062254 1.1451 -0.24232 0.1235 -0.12243 0.33152 -0.006162 -0.30541 -0.13057 -0.054601 0.037083 -0.070552 0.5893 -0.30385 0.2898 -0.14653 -0.27052 0.37161 0.32031 -0.29125 0.0052483 -0.13212 -0.052736 0.087349 -0.26668 -0.16897 0.015162 -0.0083746 -0.14871 0.23413 -0.20719 -0.091386 0.40075 -0.17223 0.18145 0.37586 -0.28682 0.37289 -0.16185 0.18008 0.3032 -0.13216 0.18352 0.095759 0.094916 0.008289 0.11761 0.34046 0.03677 -0.29077 0.058303 -0.027814 0.082941 0.1862 -0.031494 0.27985 -0.074412 -0.13762 -0.21866 0.18138 0.040855 -0.113 0.24107 0.3657 -0.27525 -0.05684 0.34872 0.011884 0.14517 -0.71395 0.48497 0.14807 0.62287 0.20599 0.58379 -0.13438 0.40207 0.18311 0.28021 -0.42349 -0.25626 0.17715 -0.54095 0.16596 -0.036058 0.08499 -0.64989 0.075549 -0.28831 0.40626 -0.2802 0.094062 0.32406 0.28437 -0.26341 0.11553 0.071918 -0.47215 -0.18366 -0.34709 0.29964 -0.66514 0.002516 -0.42333 0.27512 0.36012 0.16311 0.23964 -0.05923 0.3261 0.20559 0.038677 -0.045816 0.089764 0.43151 -0.15954 0.08532 -0.26572 -0.15001 0.084286 -0.16714 -0.43004 0.060807 0.13121 -0.24112 0.66554 0.4453 -0.18019 -0.13919 0.56252 0.21457 -0.46443 -0.012211 0.029988 -0.051094 -0.20135 0.80788 0.47377 -0.057647 0.46216 0.16084 -0.20954 -0.05452 0.15572 -0.13712 0.12972 -0.011936 -0.003378 -0.13595 -0.080711 0.20065 0.054056 0.046816 0.059539 0.046265 0.17754 -0.31094 0.28119 -0.24355 0.085252 -0.21011 -0.19472 0.0027297 -0.46341 0.14789 -0.31517 -0.065939 0.036106 0.42903 -0.33759 0.16432 0.32568 -0.050392 -0.054297 0.24074 0.41923 0.13012 -0.17167 -0.37808 -0.23089 -0.019477 -0.29291 -0.30824 0.30297 -0.22659 0.081574 -0.18516 -0.21408 0.40616 -0.28974 0.074174 -0.17795 0.28595 -0.039626 -0.2339 -0.36054 -0.067503 -0.091065 0.23438 -0.0041331 0.003232 0.0072134 0.008697 0.21614 0.049904 0.35582 0.13748 0.073361 0.14166 0.2412 -0.013322 0.15613 0.083381 0.088146 -0.019357 0.43795 0.083961 0.45309 -0.50489 -0.10865 -0.2527 -0.18251 0.20441 0.13319 0.1294 0.050594 -0.15612 -0.39543 0.12538 0.24881 -0.1927 -0.31847 -0.12719 0.4341 0.31177 -0.0040946 -0.2094 -0.079961 0.1161 -0.050794 0.015266 -0.2803 -0.12486 0.23587 0.2339 -0.14023 0.028462 0.56923 -0.1649 -0.036429 0.010051 -0.17107 -0.042608 0.044965 -0.4393 -0.26137 0.30088 -0.060772 -0.45312 -0.19076 -0.20288 0.27694 -0.060888 0.11944 0.62206 -0.19343 0.47849 -0.30113 0.059389 0.074901 0.061068 -0.4662 0.40054 -0.19099 -0.14331 0.018267 -0.18643 0.20709 -0.35598 0.05338 -0.050821 -0.1918 -0.37846 -0.06589\n",
      "\n",
      ". 0.012001 0.20751 -0.12578 -0.59325 0.12525 0.15975 0.13748 -0.33157 -0.13694 1.7893 -0.47094 0.70434 0.26673 -0.089961 -0.18168 0.067226 0.053347 1.5595 -0.2541 0.038413 -0.01409 0.056774 0.023434 0.024042 0.31703 0.19025 -0.37505 0.035603 0.1181 0.012032 -0.037566 -0.5046 -0.049261 0.092351 0.11031 -0.073062 0.33994 0.28239 0.13413 0.070128 -0.022099 -0.28103 0.49607 -0.48693 -0.090964 -0.1538 -0.38011 -0.014228 -0.19392 -0.11068 -0.014088 -0.17906 0.24509 -0.16878 -0.15351 -0.13808 0.02151 0.13699 0.0068061 -0.14915 -0.38169 0.12727 0.44007 0.32678 -0.46117 0.068687 0.34747 0.18827 -0.31837 0.4447 -0.2095 -0.26987 0.48945 0.15388 0.05295 -0.049831 0.11207 0.14881 -0.37003 0.30777 -0.33865 0.045149 -0.18987 0.26634 -0.26401 -0.47556 0.68381 -0.30653 0.24606 0.31611 -0.071098 0.030417 0.088119 0.045025 0.20125 -0.21618 -0.36371 -0.25948 -0.42398 -0.14305 -0.10208 0.21498 -0.21924 -0.17935 0.21546 0.13801 0.24504 -0.2559 0.054815 0.21307 0.2564 -0.25673 0.17961 -0.47638 -0.25181 -0.0091498 -0.054362 -0.21007 0.12597 -0.40795 -0.021164 0.20585 0.18925 -0.0051896 -0.51394 0.28862 -0.077748 -0.27676 0.46567 -0.14225 -0.17879 -0.4357 -0.32481 0.15034 -0.058367 0.49652 0.20472 0.019866 0.13326 0.12823 -1.0177 0.29007 0.28995 0.029994 -0.10763 0.28665 -0.24387 0.22905 -0.26249 -0.069269 -0.17889 0.21936 0.15146 0.04567 -0.050497 0.071482 -0.1027 -0.080705 0.30296 0.031302 0.26613 -0.0060951 0.10313 -0.39987 -0.043945 -0.057625 0.08702 -0.098152 0.22835 -0.005211 0.038075 0.01591 -0.20622 0.021853 0.0040426 -0.043063 -0.002294 -0.26097 -0.25802 -0.28158 -0.23118 -0.010404 -0.30102 -0.4042 0.014653 -0.10445 0.30377 -0.20957 0.3119 0.068272 0.1008 0.010423 0.54011 0.29865 0.12653 0.013761 0.21738 -0.39521 0.066633 0.50327 0.14913 -0.11554 0.010042 0.095698 0.16607 -0.18808 0.055019 0.026715 -0.3164 -0.046583 -0.051591 0.023475 -0.11007 0.085642 0.28394 0.040497 0.071986 0.14157 -0.021199 0.44718 0.20088 -0.12964 -0.067183 0.47614 0.13394 -0.17287 -0.37324 -0.17285 0.02683 -0.1316 0.09116 -0.46487 0.1274 -0.090159 -0.10552 0.068006 -0.13381 0.17056 0.089509 -0.23133 -0.27572 0.061534 -0.051646 0.28377 0.25286 -0.24139 -0.19905 0.12049 -0.1011 0.27392 0.27843 0.26449 -0.18292 -0.048961 0.19198 0.17192 0.33659 -0.20184 -0.34305 -0.24553 -0.15399 0.3945 0.22839 -0.25753 -0.25675 -0.37332 -0.23884 -0.048816 0.78323 0.18851 -0.26477 0.096566 0.062658 -0.30668 -0.43334 0.10006 0.21136 0.039459 -0.11077 0.24421 0.60942 -0.46646 0.086385 -0.39702 -0.23363 0.021307 -0.10778 -0.2281 0.50803 0.11567 0.16165 -0.066737 -0.29556 0.022612 -0.28135 0.0635 0.14019 0.13871 -0.36049 -0.035\n",
      "\n",
      "the 0.27204 -0.06203 -0.1884 0.023225 -0.018158 0.0067192 -0.13877 0.17708 0.17709 2.5882 -0.35179 -0.17312 0.43285 -0.10708 0.15006 -0.19982 -0.19093 1.1871 -0.16207 -0.23538 0.003664 -0.19156 -0.085662 0.039199 -0.066449 -0.04209 -0.19122 0.011679 -0.37138 0.21886 0.0011423 0.4319 -0.14205 0.38059 0.30654 0.020167 -0.18316 -0.0065186 -0.0080549 -0.12063 0.027507 0.29839 -0.22896 -0.22882 0.14671 -0.076301 -0.1268 -0.0066651 -0.052795 0.14258 0.1561 0.05551 -0.16149 0.09629 -0.076533 -0.049971 -0.010195 -0.047641 -0.16679 -0.2394 0.0050141 -0.049175 0.013338 0.41923 -0.10104 0.015111 -0.077706 -0.13471 0.119 0.10802 0.21061 -0.051904 0.18527 0.17856 0.041293 -0.014385 -0.082567 -0.035483 -0.076173 -0.045367 0.089281 0.33672 -0.22099 -0.0067275 0.23983 -0.23147 -0.88592 0.091297 -0.012123 0.013233 -0.25799 -0.02972 0.016754 0.01369 0.32377 0.039546 0.042114 -0.088243 0.30318 0.087747 0.16346 -0.40485 -0.043845 -0.040697 0.20936 -0.77795 0.2997 0.2334 0.14891 -0.39037 -0.053086 0.062922 0.065663 -0.13906 0.094193 0.10344 -0.2797 0.28905 -0.32161 0.020687 0.063254 -0.23257 -0.4352 -0.017049 -0.32744 -0.047064 -0.075149 -0.18788 -0.015017 0.029342 -0.3527 -0.044278 -0.13507 -0.11644 -0.1043 0.1392 0.0039199 0.37603 0.067217 -0.37992 -1.1241 -0.057357 -0.16826 0.03941 0.2604 -0.023866 0.17963 0.13553 0.2139 0.052633 -0.25033 -0.11307 0.22234 0.066597 -0.11161 0.062438 -0.27972 0.19878 -0.36262 -1.0006e-05 -0.17262 0.29166 -0.15723 0.054295 0.06101 -0.39165 0.2766 0.057816 0.39709 0.025229 0.24672 -0.08905 0.15683 -0.2096 -0.22196 0.052394 -0.01136 0.050417 -0.14023 -0.042825 -0.031931 -0.21336 -0.20402 -0.23272 0.07449 0.088202 -0.11063 -0.33526 -0.014028 -0.29429 -0.086911 -0.1321 -0.43616 0.20513 0.0079362 0.48505 0.064237 0.14261 -0.43711 0.12783 -0.13111 0.24673 -0.27496 0.15896 0.43314 0.090286 0.24662 0.066463 -0.20099 0.1101 0.03644 0.17359 -0.15689 -0.086328 -0.17316 0.36975 -0.40317 -0.064814 -0.034166 -0.013773 0.062854 -0.17183 -0.12366 -0.034663 -0.22793 -0.23172 0.239 0.27473 0.15332 0.10661 -0.060982 -0.024805 -0.13478 0.17932 -0.37374 -0.02893 -0.11142 -0.08389 -0.055932 0.068039 -0.10783 0.1465 0.094617 -0.084554 0.067429 -0.3291 0.034082 -0.16747 -0.25997 -0.22917 0.020159 -0.02758 0.16136 -0.18538 0.037665 0.57603 0.20684 0.27941 0.16477 -0.018769 0.12062 0.069648 0.059022 -0.23154 0.24095 -0.3471 0.04854 -0.056502 0.41566 -0.43194 0.4823 -0.051759 -0.27285 -0.25893 0.16555 -0.1831 -0.06734 0.42457 0.010346 0.14237 0.25939 0.17123 -0.13821 -0.066846 0.015981 -0.30193 0.043579 -0.043102 0.35025 -0.19681 -0.4281 0.16899 0.22511 -0.28557 -0.1028 -0.018168 0.11407 0.13015 -0.18317 0.1323\n",
      "\n",
      "and -0.18567 0.066008 -0.25209 -0.11725 0.26513 0.064908 0.12291 -0.093979 0.024321 2.4926 -0.017916 -0.071218 -0.24782 -0.26237 -0.2246 -0.21961 -0.12927 1.0867 -0.66072 -0.031617 -0.057328 0.056903 -0.27939 -0.39825 0.14251 -0.085146 -0.14779 0.055067 -0.0028687 -0.20917 -0.070735 0.22577 -0.15881 -0.10395 0.09711 -0.56251 -0.32929 -0.20853 0.0098711 0.049777 0.0014883 0.15884 0.042771 -0.0026956 -0.02462 -0.19213 -0.22556 0.10838 0.090086 -0.13291 0.32559 -0.17038 -0.1099 -0.23986 -0.024289 0.014656 -0.237 0.084828 -0.35982 -0.076746 0.048909 0.11431 -0.21013 0.24765 -0.017531 -0.14028 0.046191 0.22972 0.1175 0.12724 0.012992 0.4587 0.41085 0.039106 0.15713 -0.18376 0.26834 0.056662 0.16844 -0.053788 -0.091892 0.11193 -0.08681 -0.13324 0.15062 -0.31733 -0.22078 0.25038 0.34131 0.36419 -0.089514 -0.22193 0.24471 0.040091 0.47798 -0.029996 0.0019212 0.063511 -0.20417 -0.26478 0.20649 0.015573 -0.27722 -0.18861 -0.10289 -0.49773 0.14986 -0.010877 0.25085 -0.28117 0.18966 -0.065879 0.094753 -0.15338 -0.055071 -0.36747 0.24993 0.096527 0.23538 0.18405 0.052859 0.22967 0.12582 0.15536 -0.17275 0.33946 -0.10049 0.074948 -0.093575 -0.04049 -0.016922 -0.0058039 -0.18108 0.19537 0.45178 0.10965 0.2337 -0.09905 -0.078633 0.21678 -0.71231 -0.099759 0.33333 -0.1646 -0.091688 0.21056 0.023669 0.028922 0.1199 -0.12512 -0.026037 -0.062217 0.55816 0.0050273 -0.30888 0.038611 0.17568 -0.11163 -0.10815 -0.19444 0.29433 0.14519 -0.042878 0.18534 0.018891 -0.61883 0.13352 0.036007 0.33995 0.22109 -0.079328 0.071319 0.17678 0.16378 -0.23142 -0.1434 -0.098122 -0.019286 0.2356 -0.34013 -0.061007 -0.23208 -0.31152 0.10063 -0.15957 0.20183 -0.016345 -0.12303 0.022667 -0.20986 -0.20127 -0.087883 0.064731 0.10195 -0.1786 0.33056 0.21407 -0.32165 -0.17106 0.19407 -0.38618 -0.2148 -0.052254 0.023175 0.47389 0.18612 0.12711 0.20855 -0.10256 -0.12016 -0.40488 0.029695 -0.027419 -0.0085227 -0.11415 0.081134 -0.17228 0.19142 0.026514 0.043789 -0.12399 0.13354 0.10112 0.081682 -0.15085 0.0075806 -0.18971 0.24669 0.22491 0.35553 -0.3277 -0.21821 0.1402 0.28604 0.055226 -0.086544 0.02111 -0.19236 0.074245 0.076782 0.00081666 0.034097 -0.57719 0.10657 0.28134 -0.11964 -0.68281 -0.32893 -0.24442 -0.025847 0.0091273 0.2025 -0.050959 -0.11042 0.010962 0.076773 0.40048 -0.40739 -0.44773 0.31954 -0.036326 -0.012789 -0.17282 0.1476 0.2356 0.080642 -0.36528 -0.0083443 0.6239 -0.24379 0.019917 -0.28803 -0.010494 0.038412 -0.11718 -0.072462 0.16381 0.38488 -0.029783 0.23444 0.4532 0.14815 -0.027021 -0.073181 -0.1147 -0.0054545 0.47796 0.090912 0.094489 -0.36882 -0.59396 -0.097729 0.20072 0.17055 -0.0047356 -0.039709 0.32498 -0.023452 0.12302 0.3312\n",
      "\n",
      "in 0.0703125 0.08691406 0.087890625 0.0625 0.06933594 -0.10888672 -0.08154297 -0.15429688 0.020751953 0.13183594 -0.11376953 -0.037353516 0.06933594 0.078125 -0.103027344 -0.09765625 0.044189453 0.10253906 -0.060791016 -0.036132812 -0.045410156 0.04736328 -0.12060547 -0.063964844 0.0022583008 0.037109375 -0.0029144287 0.11767578 0.061767578 0.063964844 0.08105469 -0.068847656 -0.021362305 0.05517578 -0.08544922 0.068847656 -0.12792969 -0.033203125 0.09863281 0.17578125 0.110839844 -0.03466797 -0.04711914 -0.008483887 0.035888672 0.103027344 0.026977539 -0.028686523 -0.005126953 0.10644531 0.059814453 0.09423828 0.033691406 -0.02709961 -0.09423828 0.0010299683 -0.048339844 0.034423828 0.08105469 -0.11328125 -0.08886719 0.035888672 -0.14550781 -0.24414062 -0.061523438 0.052978516 0.056884766 0.1796875 0.061035156 0.08691406 0.12402344 -0.040283203 0.022583008 0.17773438 -0.029663086 -0.029663086 0.1171875 0.03112793 -0.096191406 0.06640625 0.004699707 -0.080078125 0.06298828 -0.020629883 -0.0546875 -0.13574219 -0.06347656 0.083496094 -0.063964844 0.021484375 0.07714844 -0.037109375 -0.033691406 -0.18359375 -0.072753906 0.01586914 0.09326172 -0.061523438 -0.014221191 -0.0034484863 0.011108398 -0.15820312 -0.017089844 0.0061950684 -0.008728027 -0.080566406 -0.015258789 -0.087890625 0.003479004 -0.016113281 -0.012329102 0.09765625 -0.13964844 -0.0859375 -0.026855469 0.053955078 0.1328125 0.11279297 0.12109375 0.08544922 -0.0071105957 0.044677734 -0.14550781 -0.0032043457 -0.11767578 -0.06542969 0.07128906 -0.09423828 -0.030273438 0.12011719 0.080078125 -0.09472656 -0.16210938 -0.07763672 0.021240234 -0.08154297 0.0039367676 -0.15722656 -0.09814453 0.039794922 0.03930664 -0.009094238 0.103027344 0.067871094 -0.04272461 0.06347656 -0.049072266 0.020874023 -0.16699219 0.09326172 0.09375 0.006866455 0.053710938 0.052490234 -0.024414062 -0.032470703 -0.061523438 -0.005554199 0.096191406 0.037841797 0.012207031 -0.043945312 -0.0074768066 0.10546875 0.020385742 0.14550781 0.08203125 0.0057678223 0.0045776367 -0.09277344 -0.13867188 -0.057373047 -0.051513672 -0.13085938 -0.13964844 -0.020507812 -0.02709961 0.032714844 0.10498047 -0.0023345947 -0.022583008 0.00050354004 -0.110839844 0.08496094 -0.12988281 -0.017456055 -0.00035858154 0.107910156 0.08886719 0.044677734 0.025146484 0.023803711 0.08105469 0.02368164 -0.10986328 0.0053710938 -0.017700195 -0.033935547 -0.032958984 -0.1640625 0.095703125 -0.018310547 0.0053100586 -0.034423828 -0.044189453 -0.06640625 -0.017944336 -0.029663086 -0.007598877 -0.05126953 -0.05419922 0.08935547 -0.071777344 0.015258789 -0.08251953 -0.03173828 0.03564453 -0.021240234 -0.059326172 -0.013061523 0.046875 0.023071289 0.020996094 -0.07861328 -0.008056641 0.01953125 -0.005554199 0.041503906 0.027832031 0.01361084 0.03466797 -0.18261719 0.12011719 0.07421875 -0.041015625 -0.0099487305 0.04296875 -0.007293701 0.123046875 0.057617188 -0.053466797 -0.032226562 -0.009094238 -0.04663086 0.043945312 -0.05078125 0.068847656 0.0029907227 -0.004180908 -0.044189453 0.07373047 -0.012756348 0.06738281 0.006286621 0.07519531 -0.037841797 0.0048828125 0.044677734 -0.06738281 0.00970459 0.0047302246 0.020507812 0.07128906 0.17089844 0.17382812 0.055664062 0.091308594 -0.037353516 0.049804688 -0.03930664 0.044189453 0.0625 0.048583984 -0.053222656 0.048828125 -0.13085938 -0.028930664 -0.036132812 -0.060791016 -0.057373047 0.123046875 -0.08251953 -0.0119018555 0.125 0.0013580322 0.063964844 -0.10644531 -0.14355469 -0.042236328 0.024047852 -0.16894531 -0.08886719 -0.080566406 0.064941406 0.061279297 -0.04736328 -0.05883789 -0.047607422 0.014465332 -0.0625\n",
      "\n",
      "for -0.011779785 -0.04736328 0.044677734 0.06347656 -0.018188477 -0.063964844 -0.0013122559 -0.072265625 0.064453125 0.08642578 -0.16992188 -0.039794922 0.07128906 -0.025878906 0.018188477 0.13671875 0.14453125 -0.033691406 -0.09765625 -0.12011719 -0.079589844 0.0625 -0.06689453 0.07421875 0.022705078 0.033447266 -0.18066406 0.052001953 0.0138549805 0.09277344 0.0035095215 -0.009094238 -0.09716797 0.067871094 -0.0087890625 0.044189453 -0.13378906 -0.099609375 0.033203125 0.027954102 0.15527344 -0.017700195 0.014282227 -0.10986328 -0.08544922 -0.07324219 -0.024658203 0.17285156 0.061767578 0.08935547 -0.024291992 0.14160156 -0.032958984 0.02746582 -0.15527344 0.007873535 -0.07080078 0.043701172 0.006011963 -0.055908203 -0.14746094 0.028442383 -0.1328125 -0.17675781 -0.091308594 -0.05078125 -0.026000977 -0.1484375 -0.080566406 0.15039062 -0.04345703 0.07910156 0.033203125 0.09033203 0.022705078 -0.0625 0.1640625 0.0859375 -0.012390137 0.19628906 -0.06225586 0.022460938 -0.030151367 0.021240234 0.003326416 -0.055419922 -0.07324219 0.029785156 0.049804688 0.017456055 0.10449219 0.03881836 0.08496094 -0.24804688 0.06933594 -0.14941406 0.05834961 0.095703125 -0.033447266 0.06298828 0.021362305 -0.14550781 0.053710938 -0.09082031 -0.025390625 0.045410156 0.0053100586 -0.115722656 -0.01953125 0.12109375 0.032226562 0.09472656 -0.064453125 0.022705078 0.12060547 0.060302734 0.12060547 0.048828125 0.09326172 0.06689453 0.029296875 -0.034179688 -0.111328125 0.053466797 -0.025634766 0.017822266 0.06225586 -0.025878906 0.14550781 0.0625 0.107910156 -0.16308594 -0.09765625 -0.10595703 -0.08544922 -0.08886719 0.10107422 -0.079589844 0.008422852 0.024047852 0.13085938 0.05126953 0.08154297 0.09375 -0.05859375 -0.09667969 -0.028320312 -0.14550781 -0.14746094 0.14550781 -0.017578125 0.032958984 -0.08544922 -0.010986328 -0.037109375 -0.013671875 0.035888672 -0.008239746 0.05029297 -0.09472656 0.047851562 0.020751953 0.030639648 0.12988281 0.052734375 0.018798828 -0.017578125 0.03491211 0.018310547 -0.009887695 -0.18457031 -0.08984375 -0.029052734 -0.060791016 -0.05126953 -0.0023651123 0.06640625 -0.08251953 -0.040039062 0.096191406 -0.15429688 -0.15332031 0.028320312 0.013122559 0.029907227 -0.012145996 -0.09667969 0.024780273 0.19335938 0.013000488 0.024169922 -0.035888672 0.09863281 -0.09667969 -0.20019531 -0.013793945 0.0859375 -0.080078125 -0.17675781 -0.17480469 0.005126953 -0.03491211 -0.0546875 0.09375 -0.09326172 -0.011962891 -0.0005645752 0.09765625 0.024780273 -0.039794922 0.009765625 0.11816406 0.025756836 0.123046875 0.064453125 0.07080078 0.029296875 -0.049560547 -0.078125 0.028930664 0.045654297 -0.04296875 0.025878906 -0.051757812 0.140625 0.004272461 -0.037841797 0.02746582 0.060058594 0.028320312 0.028076172 -0.036621094 0.13085938 -9.679794e-05 -0.06933594 -0.022094727 0.067871094 -0.02331543 -0.015319824 -0.05834961 0.061035156 0.00064468384 0.0039978027 -0.07128906 0.091796875 0.026245117 0.020019531 0.03540039 -0.057861328 -0.029663086 0.02734375 0.025146484 0.060302734 0.13183594 -0.0043640137 0.0027313232 0.059814453 0.09863281 -0.091796875 -0.045898438 -0.017456055 0.038330078 -0.019165039 0.04638672 0.047851562 0.09814453 -0.040283203 0.09423828 -0.03466797 -0.042236328 0.0703125 -0.013671875 0.10644531 0.016479492 0.13183594 -0.0016937256 -0.008483887 -0.14257812 -0.04663086 -0.10986328 0.08203125 -0.041015625 -0.018920898 0.087890625 -0.0028076172 0.23828125 -0.04711914 -0.022949219 0.040771484 0.029296875 -0.022583008 0.0037231445 -0.08251953 0.08154297 0.00793457 0.00047683716 0.018432617 0.07128906 -0.03491211 0.024169922\n",
      "\n",
      "that -0.01574707 -0.028320312 0.083496094 0.05029297 -0.11035156 0.03173828 -0.014221191 -0.08984375 0.11767578 0.11816406 -0.071777344 -0.07714844 -0.068847656 0.07714844 -0.13867188 0.006500244 0.010986328 -0.015136719 -0.0009613037 -0.030273438 -0.00015830994 0.038330078 -0.024169922 -0.045898438 0.09472656 -0.05517578 -0.064941406 0.0061035156 0.0008544922 0.06201172 -0.05444336 0.014099121 0.022216797 -0.044921875 0.111328125 -0.03857422 0.05126953 0.025146484 0.016967773 0.06298828 0.13769531 0.13574219 0.06542969 -0.064453125 -0.024047852 -0.013366699 -0.037109375 0.0043029785 -0.01574707 0.019042969 0.10839844 0.044677734 -0.044921875 -0.095214844 0.08691406 0.08203125 0.0068359375 -0.13183594 0.0027313232 -0.075683594 0.022460938 0.171875 -0.048583984 0.038330078 -0.088378906 -0.017211914 0.021850586 0.13378906 0.010681152 0.049804688 0.038085938 -0.0052490234 0.061279297 -0.050048828 -0.10595703 0.055664062 0.15429688 0.17089844 0.048095703 0.12695312 0.08154297 -0.1015625 0.043945312 -0.013549805 -0.13378906 -0.15722656 0.024291992 0.20898438 -0.10205078 -0.09375 0.048583984 0.07519531 0.0035247803 -0.123535156 -0.024169922 -0.0013198853 0.038330078 0.007598877 0.017700195 0.043701172 -0.09814453 -0.05810547 0.014099121 0.041015625 -0.03540039 -0.022949219 -0.13085938 -0.14453125 0.028930664 -0.122558594 -0.07128906 -0.0071411133 -0.09667969 0.05859375 0.104003906 0.026367188 0.0075683594 0.036132812 0.040283203 0.052734375 -0.20410156 -0.033447266 -0.029052734 0.03173828 -0.123535156 -0.06738281 0.01586914 -0.08642578 0.012512207 -0.06298828 -0.12060547 0.0234375 -0.13183594 -0.11816406 -0.012145996 -0.10986328 0.095214844 -0.041992188 0.018310547 0.051757812 0.014953613 -0.15917969 -0.021728516 -0.005126953 0.035888672 -0.003036499 -0.078125 -0.05126953 -0.0074157715 0.087402344 -0.023925781 0.044189453 -0.11376953 0.021484375 -0.003829956 -0.04345703 -0.104003906 -0.18554688 -0.044921875 0.044921875 -0.044433594 0.019042969 -0.020996094 0.0134887695 0.015258789 -0.030395508 0.04663086 0.10253906 -0.0138549805 0.008239746 -0.052734375 0.01965332 -0.076171875 -0.08984375 0.043945312 0.00793457 0.012634277 -0.10839844 -0.018554688 -0.10449219 -0.15234375 -0.07910156 -0.028808594 -0.018676758 0.09716797 -0.008361816 -0.03540039 0.007537842 0.05810547 0.08203125 0.028808594 0.05102539 0.0031738281 -0.018554688 0.014953613 -0.072753906 -0.034179688 0.043945312 -0.048828125 -0.16113281 0.025634766 0.036621094 -0.00015354156 -0.0012588501 -0.039794922 -0.032226562 -0.01574707 0.060791016 0.09716797 -0.015014648 -0.033691406 -0.015319824 0.0046691895 0.032958984 -0.08203125 0.10644531 0.15429688 0.0087890625 -0.12011719 0.061279297 0.05859375 0.03881836 -0.015991211 -0.043945312 0.12011719 -0.07519531 0.125 0.03515625 0.072753906 0.087402344 0.021118164 -0.07373047 0.034423828 -0.09423828 0.01159668 -0.057128906 -0.07861328 0.015991211 0.075683594 0.030517578 0.0046081543 -0.14550781 -0.024780273 -0.107910156 0.068847656 0.05810547 0.125 -0.06542969 0.005279541 0.01184082 0.06982422 0.12695312 0.06542969 -0.017333984 0.119140625 -0.032470703 0.14453125 0.076660156 -0.032226562 -0.06591797 0.06298828 -0.0625 -0.096191406 0.10644531 -0.039794922 0.11621094 -0.00970459 -0.03540039 -0.06542969 0.05883789 0.16210938 0.05126953 0.15917969 0.095214844 0.076171875 -0.091796875 0.025146484 -0.07861328 0.08935547 -0.05859375 -0.040039062 0.045898438 0.03100586 0.0390625 0.03564453 -0.10595703 -0.037109375 -0.16113281 0.021362305 0.0012207031 -0.011291504 -0.015625 -0.033447266 -0.020629883 -0.01940918 0.063964844 0.020141602 0.006866455 0.061035156 -0.1484375\n",
      "\n",
      "is 0.0070495605 -0.07324219 0.171875 0.022583008 -0.1328125 0.19824219 0.11279297 -0.107910156 0.071777344 0.020874023 -0.123046875 -0.05908203 0.10107422 0.0107421875 0.14355469 0.25976562 -0.036376953 0.18554688 -0.07861328 -0.022705078 -0.12060547 0.17773438 0.049560547 0.017211914 0.079589844 -0.045654297 -0.18847656 0.18945312 -0.02319336 0.06298828 0.09765625 -0.019042969 -0.07910156 0.15234375 0.17382812 0.1015625 -0.16308594 0.114746094 0.10058594 -0.09277344 0.109375 0.05883789 -0.021606445 0.06347656 0.041992188 -0.008850098 0.032226562 0.10644531 0.064453125 -0.118652344 0.030517578 0.06689453 0.12207031 -0.08300781 0.171875 0.07861328 0.095214844 -0.0077819824 0.02319336 0.0234375 -0.016845703 0.15527344 -0.10986328 -0.17675781 -0.11621094 0.0234375 -0.010620117 0.052734375 -0.13378906 0.079589844 0.07373047 0.043945312 0.115234375 -0.020629883 0.07470703 -0.0115356445 0.080566406 0.041748047 0.080078125 0.3515625 0.09667969 -0.21289062 0.16503906 -0.078125 0.06982422 -0.0013961792 -0.091308594 0.12988281 0.25195312 -0.016113281 0.09326172 -0.14648438 -0.0015106201 -0.15136719 -0.026855469 -0.15722656 0.026367188 0.0859375 0.071777344 0.07714844 -0.0390625 0.05444336 -0.12792969 0.091308594 -0.18457031 -0.037597656 -0.027954102 -0.08984375 -0.11669922 -0.09863281 0.048095703 -0.16210938 -0.10888672 0.08496094 -0.045654297 0.15820312 -0.038085938 -0.08203125 0.203125 0.08642578 0.06933594 0.032226562 -0.16015625 0.09472656 -0.024658203 0.05419922 0.027954102 0.044921875 0.16992188 0.072753906 -0.036376953 -0.010253906 -0.017089844 -0.107421875 -0.0007019043 -0.07373047 0.25390625 0.056640625 0.03515625 -0.008605957 0.18554688 0.021484375 0.26367188 -0.023803711 -0.099121094 -0.041259766 -0.06933594 -0.11376953 0.050048828 -0.05883789 0.046142578 0.087402344 0.10546875 0.10644531 0.027954102 0.09472656 0.11621094 -0.17285156 -0.03491211 -0.20800781 0.059570312 0.104003906 -0.0017929077 0.05859375 -0.029785156 -0.037597656 0.048583984 -0.063964844 0.079589844 0.06933594 -0.10498047 -0.14453125 0.04345703 -0.068847656 -0.03564453 -0.01171875 0.013671875 -0.06591797 0.119140625 0.03125 -0.04638672 -0.0019683838 0.0073547363 -0.056640625 0.027832031 0.08251953 -0.0134887695 0.071777344 0.14453125 0.12792969 0.042236328 0.14160156 -0.018066406 0.021606445 -0.091796875 0.13378906 -0.1953125 -0.05029297 -0.037841797 -0.096191406 0.103027344 -0.106933594 -0.14746094 0.099609375 -0.23046875 0.22753906 -0.07519531 0.064941406 0.091796875 0.046875 0.06298828 0.06982422 0.046142578 0.09716797 -0.20214844 0.19921875 0.18652344 -0.119628906 -0.14257812 0.15039062 -0.033691406 -0.14550781 -0.0006904602 -0.07324219 0.13378906 0.03564453 -0.022949219 0.027709961 -0.07910156 0.20703125 -0.083496094 -0.049560547 0.03149414 0.1484375 0.055664062 -0.044921875 -0.079589844 0.004760742 -0.020751953 0.060058594 0.004760742 0.011169434 0.17285156 -0.13476562 0.030761719 -0.079589844 0.09033203 0.061035156 0.07714844 -0.05029297 -0.092285156 -0.26757812 0.107910156 0.0859375 0.06298828 0.107910156 -0.026733398 0.10205078 -0.12060547 0.052978516 0.09472656 -0.16503906 0.044189453 0.072265625 0.041259766 0.42578125 -0.103027344 -0.16015625 -0.09033203 -0.063964844 -0.048095703 0.14453125 0.06542969 0.049316406 0.05419922 0.13574219 -0.01928711 -0.21582031 -0.07421875 -0.14648438 0.011474609 -0.16503906 -0.10498047 0.0032043457 0.13476562 -0.003967285 -0.103515625 -0.13964844 0.10449219 -0.012573242 -0.23339844 -0.036376953 -0.09375 0.18261719 0.02709961 0.12792969 -0.024780273 0.011230469 0.1640625 0.106933594\n",
      "\n"
     ]
    }
   ],
   "source": [
    "# Exercise: Print the first 4 lines of the files that you downloaded.\n",
    "DATAPATH = \"./data\"\n",
    "glove_filename = \"glove.840B.300d.sst.txt\"\n",
    "word2vec_filename = \"googlenews.word2vec.300d.txt\"\n",
    "with open(os.path.join(DATAPATH, glove_filename), 'r', encoding=\"utf-8\") as glove_file:\n",
    "    for i, line in enumerate(glove_file):\n",
    "        if i == 4: \n",
    "            break\n",
    "        print(line)\n",
    "\n",
    "with open(os.path.join(DATAPATH, word2vec_filename), 'r', encoding=\"utf-8\") as file:\n",
    "    for i, line in enumerate(file):\n",
    "        if i == 4: \n",
    "            break\n",
    "        print(line)"
   ]
  },
  {
   "cell_type": "code",
   "execution_count": 35,
   "metadata": {},
   "outputs": [],
   "source": [
    "# We chose GloVe embeddings. "
   ]
  },
  {
   "cell_type": "markdown",
   "metadata": {
    "id": "WIVCkUkE_IjR"
   },
   "source": [
    "#### Exercise: New Vocabulary\n",
    "\n",
    "Since we now use pre-trained word embeddings, we need to create a new vocabulary. \n",
    "This is because of two reasons:\n",
    "\n",
    "1. We do not have pre-trained word embeddings for all words in our SST training set, and we do not want words in our vocabulary for which we have no word embeddings.\n",
    "2. We should be able to look up the pre-trained word embedding for words in the validation and test set, even if these words are unseen in training. \n",
    "\n",
    "Now, create a new vocabulary object `v` based on the word set of pre-trained embeddings, and load the corresponding embeddings into a list `vectors`.\n",
    "\n",
    "The vocabulary `v` should consist of:\n",
    " - a  `<unk>` token at position 0,\n",
    " - a  `<pad>` token at position 1, \n",
    " - and then all words in the pre-trained embedding set.\n",
    " \n",
    "\n",
    "After storing each vector in a list `vectors`, turn the list into a numpy matrix like this:\n",
    "```python\n",
    " vectors = np.stack(vectors, axis=0)\n",
    "```\n",
    "\n",
    "Remember to add new embeddings for the `<unk>` and `<pad>` tokens, as they're not part of the word2vec/GloVe embeddings. These embeddings can be randomly initialized or 0-valued, think about what makes sense and see what the effects are.\n",
    " "
   ]
  },
  {
   "cell_type": "code",
   "execution_count": 36,
   "metadata": {
    "id": "ITyyCvDnCL4U"
   },
   "outputs": [
    {
     "name": "stdout",
     "output_type": "stream",
     "text": [
      "New vocabulary size: 20727\n"
     ]
    }
   ],
   "source": [
    "v = Vocabulary()\n",
    "vectors = []\n",
    "with open(os.path.join(DATAPATH, glove_filename), 'r', encoding=\"utf-8\") as glove_file:\n",
    "    for line in glove_file:\n",
    "        values = line.split()\n",
    "        word = values[0]\n",
    "        vector = np.asarray(values[1:], dtype=\"float32\")\n",
    "        vectors.append(vector)\n",
    "        v.count_token(word)\n",
    "\n",
    "# Build vocabulary\n",
    "v.build()\n",
    "# Adding embedings for <unk> and <pad> tokens.\n",
    "vectors.insert(0, np.random.rand(300))\n",
    "vectors.insert(0, np.random.rand(300))\n",
    "vectors = np.stack(vectors, axis=0)\n",
    "print(f\"New vocabulary size: {len(v.w2i)}\")"
   ]
  },
  {
   "cell_type": "markdown",
   "metadata": {
    "id": "xC-7mRyYNG9b"
   },
   "source": [
    "#### Exercise: words not in our pre-trained set\n",
    "\n",
    "How many words in the training, dev, and test set are also in your vector set?\n",
    "How many words are not there?\n",
    "\n",
    "Store the words that are not in the word vector set in the set below."
   ]
  },
  {
   "cell_type": "code",
   "execution_count": 37,
   "metadata": {
    "id": "K6MA3-wF_X5M"
   },
   "outputs": [
    {
     "name": "stdout",
     "output_type": "stream",
     "text": [
      "For the GloVe embeddings:\n",
      "Words not found: 976\n",
      "Words found: 20723\n"
     ]
    }
   ],
   "source": [
    "words_not_found = set()\n",
    "words_found = set()\n",
    "\n",
    "for data in [train_data, dev_data, test_data]: \n",
    "    for example in data:\n",
    "        for token in example.tokens:\n",
    "            try:\n",
    "                index = v.w2i[token]\n",
    "                words_found.add(token)\n",
    "            except:\n",
    "                words_not_found.add(token)\n",
    "\n",
    "print('For the GloVe embeddings:')\n",
    "print(f'Words not found: {len(words_not_found)}')\n",
    "print(f'Words found: {len(words_found)}')"
   ]
  },
  {
   "cell_type": "markdown",
   "metadata": {
    "id": "BfEd38W0NnAI"
   },
   "source": [
    "#### Exercise: train Deep CBOW with (fixed) pre-trained embeddings\n",
    "\n",
    "Now train Deep CBOW again using the pre-trained word vectors.\n"
   ]
  },
  {
   "cell_type": "code",
   "execution_count": 38,
   "metadata": {
    "id": "YTJtKBzd7Qjr"
   },
   "outputs": [
    {
     "name": "stdout",
     "output_type": "stream",
     "text": [
      "Namespace(iterations=30000, learning_rate=0.0005, batch_size=1, eval_every=300, model='pt_deep_cbow', embedding_dim=300, hidden_dim=100, embedding='glove', root='./data', model_dir='./save/models', resume=None, seed=42, evaluate=False, evaluate_on_length=False, use_subtrees=False, filename='pt_deep_cbow_iterations-30000_bsz-1_lr-0.0005', device='mps')\r\n",
      "Beginning training...\r\n",
      "[Iteration 300] Validation acc: 0.3288\r\n",
      "[Iteration 600] Validation acc: 0.3542\r\n",
      "[Iteration 900] Validation acc: 0.3542\r\n",
      "[Iteration 1000] Train loss: 1.478 \r\n",
      "[Iteration 1200] Validation acc: 0.3606\r\n",
      "[Iteration 1500] Validation acc: 0.3115\r\n",
      "[Iteration 1800] Validation acc: 0.3806\r\n",
      "[Iteration 2000] Train loss: 1.398 \r\n",
      "[Iteration 2100] Validation acc: 0.3778\r\n",
      "[Iteration 2400] Validation acc: 0.3797\r\n",
      "[Iteration 2700] Validation acc: 0.4033\r\n",
      "[Iteration 3000] Train loss: 1.375 \r\n",
      "[Iteration 3000] Validation acc: 0.4096\r\n",
      "[Iteration 3300] Validation acc: 0.3933\r\n",
      "[Iteration 3600] Validation acc: 0.3724\r\n",
      "[Iteration 3900] Validation acc: 0.3951\r\n",
      "[Iteration 4000] Train loss: 1.341 \r\n",
      "[Iteration 4200] Validation acc: 0.3969\r\n",
      "[Iteration 4500] Validation acc: 0.3697\r\n",
      "[Iteration 4800] Validation acc: 0.4214\r\n",
      "[Iteration 5000] Train loss: 1.346 \r\n",
      "[Iteration 5100] Validation acc: 0.4087\r\n",
      "[Iteration 5400] Validation acc: 0.4105\r\n",
      "[Iteration 5700] Validation acc: 0.4105\r\n",
      "[Iteration 6000] Train loss: 1.331 \r\n",
      "[Iteration 6000] Validation acc: 0.4005\r\n",
      "[Iteration 6300] Validation acc: 0.4142\r\n",
      "[Iteration 6600] Validation acc: 0.3924\r\n",
      "[Iteration 6900] Validation acc: 0.4033\r\n",
      "[Iteration 7000] Train loss: 1.337 \r\n",
      "[Iteration 7200] Validation acc: 0.4133\r\n",
      "[Iteration 7500] Validation acc: 0.3906\r\n",
      "[Iteration 7800] Validation acc: 0.4024\r\n",
      "[Iteration 8000] Train loss: 1.333 \r\n",
      "[Iteration 8100] Validation acc: 0.3969\r\n",
      "[Iteration 8400] Validation acc: 0.3706\r\n",
      "[Iteration 8700] Validation acc: 0.3660\r\n",
      "[Iteration 9000] Train loss: 0.591 \r\n",
      "[Iteration 9000] Validation acc: 0.4251\r\n",
      "[Iteration 9300] Validation acc: 0.4196\r\n",
      "[Iteration 9600] Validation acc: 0.4142\r\n",
      "[Iteration 9900] Validation acc: 0.3987\r\n",
      "[Iteration 10000] Train loss: 1.292 \r\n",
      "[Iteration 10200] Validation acc: 0.4060\r\n",
      "[Iteration 10500] Validation acc: 0.4223\r\n",
      "[Iteration 10800] Validation acc: 0.4269\r\n",
      "[Iteration 11000] Train loss: 1.308 \r\n",
      "[Iteration 11100] Validation acc: 0.4205\r\n",
      "[Iteration 11400] Validation acc: 0.4114\r\n",
      "[Iteration 11700] Validation acc: 0.4360\r\n",
      "[Iteration 12000] Train loss: 1.288 \r\n",
      "[Iteration 12000] Validation acc: 0.4387\r\n",
      "[Iteration 12300] Validation acc: 0.4105\r\n",
      "[Iteration 12600] Validation acc: 0.3969\r\n",
      "[Iteration 12900] Validation acc: 0.4160\r\n",
      "[Iteration 13000] Train loss: 1.272 \r\n",
      "[Iteration 13200] Validation acc: 0.4033\r\n",
      "[Iteration 13500] Validation acc: 0.4114\r\n",
      "[Iteration 13800] Validation acc: 0.4205\r\n",
      "[Iteration 14000] Train loss: 1.306 \r\n",
      "[Iteration 14100] Validation acc: 0.4223\r\n",
      "[Iteration 14400] Validation acc: 0.4078\r\n",
      "[Iteration 14700] Validation acc: 0.4196\r\n",
      "[Iteration 15000] Train loss: 1.321 \r\n",
      "[Iteration 15000] Validation acc: 0.4024\r\n",
      "[Iteration 15300] Validation acc: 0.4096\r\n",
      "[Iteration 15600] Validation acc: 0.4160\r\n",
      "[Iteration 15900] Validation acc: 0.4233\r\n",
      "[Iteration 16000] Train loss: 1.329 \r\n",
      "[Iteration 16200] Validation acc: 0.4214\r\n",
      "[Iteration 16500] Validation acc: 0.4005\r\n",
      "[Iteration 16800] Validation acc: 0.4105\r\n",
      "[Iteration 17000] Train loss: 1.310 \r\n",
      "[Iteration 17100] Validation acc: 0.4287\r\n",
      "[Iteration 17400] Validation acc: 0.4205\r\n",
      "[Iteration 17700] Validation acc: 0.4142\r\n",
      "[Iteration 18000] Train loss: 1.180 \r\n",
      "[Iteration 18000] Validation acc: 0.3987\r\n",
      "[Iteration 18300] Validation acc: 0.4005\r\n",
      "[Iteration 18600] Validation acc: 0.4024\r\n",
      "[Iteration 18900] Validation acc: 0.4205\r\n",
      "[Iteration 19000] Train loss: 1.268 \r\n",
      "[Iteration 19200] Validation acc: 0.4342\r\n",
      "[Iteration 19500] Validation acc: 0.4142\r\n",
      "[Iteration 19800] Validation acc: 0.4024\r\n",
      "[Iteration 20000] Train loss: 1.297 \r\n",
      "[Iteration 20100] Validation acc: 0.4060\r\n",
      "[Iteration 20400] Validation acc: 0.4178\r\n",
      "[Iteration 20700] Validation acc: 0.4378\r\n",
      "[Iteration 21000] Train loss: 1.282 \r\n",
      "[Iteration 21000] Validation acc: 0.3597\r\n",
      "[Iteration 21300] Validation acc: 0.4151\r\n",
      "[Iteration 21600] Validation acc: 0.4214\r\n",
      "[Iteration 21900] Validation acc: 0.3951\r\n",
      "[Iteration 22000] Train loss: 1.261 \r\n",
      "[Iteration 22200] Validation acc: 0.4233\r\n",
      "[Iteration 22500] Validation acc: 0.4178\r\n",
      "[Iteration 22800] Validation acc: 0.4142\r\n",
      "[Iteration 23000] Train loss: 1.272 \r\n",
      "[Iteration 23100] Validation acc: 0.3969\r\n",
      "[Iteration 23400] Validation acc: 0.4105\r\n",
      "[Iteration 23700] Validation acc: 0.4342\r\n",
      "[Iteration 24000] Train loss: 1.259 \r\n",
      "[Iteration 24000] Validation acc: 0.4278\r\n",
      "[Iteration 24300] Validation acc: 0.4205\r\n",
      "[Iteration 24600] Validation acc: 0.4087\r\n",
      "[Iteration 24900] Validation acc: 0.4233\r\n",
      "[Iteration 25000] Train loss: 1.311 \r\n",
      "[Iteration 25200] Validation acc: 0.4096\r\n",
      "[Iteration 25500] Validation acc: 0.3860\r\n",
      "[Iteration 25800] Validation acc: 0.3906\r\n",
      "[Iteration 26000] Train loss: 0.467 \r\n",
      "[Iteration 26100] Validation acc: 0.4260\r\n",
      "[Iteration 26400] Validation acc: 0.3915\r\n",
      "[Iteration 26700] Validation acc: 0.4432\r\n",
      "[Iteration 27000] Train loss: 1.257 \r\n",
      "[Iteration 27000] Validation acc: 0.4133\r\n",
      "[Iteration 27300] Validation acc: 0.4151\r\n",
      "[Iteration 27600] Validation acc: 0.4251\r\n",
      "[Iteration 27900] Validation acc: 0.4332\r\n",
      "[Iteration 28000] Train loss: 1.259 \r\n",
      "[Iteration 28200] Validation acc: 0.4223\r\n",
      "[Iteration 28500] Validation acc: 0.4096\r\n",
      "[Iteration 28800] Validation acc: 0.4432\r\n",
      "[Iteration 29000] Train loss: 1.199 \r\n",
      "[Iteration 29100] Validation acc: 0.4287\r\n",
      "[Iteration 29400] Validation acc: 0.4305\r\n",
      "[Iteration 29700] Validation acc: 0.4342\r\n",
      "[Iteration 30000] Train loss: 1.281 \r\n",
      "[Iteration 30000] Validation acc: 0.4323\r\n",
      "Beginning evaluation...\r\n",
      "Best model:\r\n",
      "\tIteration: 26699\r\n",
      "\tTrain accuracy: 0.4563\r\n",
      "\tValidation accuracy: 0.4432\r\n",
      "\tTest accuracy: 0.4172\r\n",
      "\r\n",
      "Experimental results:\r\n",
      "defaultdict(<class 'list'>, {'train_losses': [[1.4784765858352185, 1.3977255439162255, 1.3747654575407504, 1.3407540168315173, 1.3455817469358444, 1.33123948431015, 1.3368236233592032, 1.3325093801915646, 0.5908060230016708, 1.2917616584151983, 1.3080423918515445, 1.2876140036433936, 1.2715416202247143, 1.3060842412561178, 1.321244673281908, 1.3293542407751084, 1.3095658238381147, 1.1802571353167295, 1.2679579443484545, 1.2969544021189212, 1.2816263978928328, 1.2607808283120394, 1.272421090349555, 1.2586576199829578, 1.311210557192564, 0.46685002237558365, 1.2567249967604877, 1.2594296858012677, 1.1985564441084862, 1.2809775111973285]], 'val_accuracies': [[0.32879200726612173, 0.3542234332425068, 0.3542234332425068, 0.3605812897366031, 0.3115349682107175, 0.38056312443233425, 0.37783832879200724, 0.3796548592188919, 0.4032697547683924, 0.40962761126248864, 0.3932788374205268, 0.3723887375113533, 0.39509536784741145, 0.39691189827429607, 0.36966394187102636, 0.4214350590372389, 0.4087193460490463, 0.410535876475931, 0.410535876475931, 0.40054495912806537, 0.4141689373297003, 0.3923705722070845, 0.4032697547683924, 0.41326067211625794, 0.3905540417801998, 0.40236148955495005, 0.39691189827429607, 0.37057220708446864, 0.36603088101725706, 0.4250681198910082, 0.4196185286103542, 0.4141689373297003, 0.39872842870118075, 0.40599455040871935, 0.4223433242506812, 0.4268846503178928, 0.42052679382379654, 0.4114441416893733, 0.4359673024523161, 0.43869209809264303, 0.410535876475931, 0.39691189827429607, 0.4159854677565849, 0.4032697547683924, 0.4114441416893733, 0.42052679382379654, 0.4223433242506812, 0.407811080835604, 0.4196185286103542, 0.40236148955495005, 0.40962761126248864, 0.4159854677565849, 0.4232515894641235, 0.4214350590372389, 0.40054495912806537, 0.410535876475931, 0.4287011807447775, 0.42052679382379654, 0.4141689373297003, 0.39872842870118075, 0.40054495912806537, 0.40236148955495005, 0.42052679382379654, 0.43415077202543145, 0.4141689373297003, 0.40236148955495005, 0.40599455040871935, 0.4178019981834696, 0.43778383287920075, 0.35967302452316074, 0.4150772025431426, 0.4214350590372389, 0.39509536784741145, 0.4232515894641235, 0.4178019981834696, 0.4141689373297003, 0.39691189827429607, 0.410535876475931, 0.43415077202543145, 0.42779291553133514, 0.42052679382379654, 0.4087193460490463, 0.4232515894641235, 0.40962761126248864, 0.3860127157129882, 0.3905540417801998, 0.4259763851044505, 0.39146230699364215, 0.44323342415985467, 0.41326067211625794, 0.4150772025431426, 0.4250681198910082, 0.4332425068119891, 0.4223433242506812, 0.40962761126248864, 0.44323342415985467, 0.4287011807447775, 0.4305177111716621, 0.43415077202543145, 0.4323342415985468]], 'test_accuracies': [0.4171945701357466]})\r\n"
     ]
    }
   ],
   "source": [
    "!python -u main.py \\\n",
    "    --iterations 30000 \\\n",
    "    --eval_every 300 \\\n",
    "    --embedding_dim 300 \\\n",
    "    --hidden_dim 100 \\\n",
    "    --learning_rate 0.0005 \\\n",
    "    --model pt_deep_cbow \\\n",
    "    --embedding glove "
   ]
  },
  {
   "cell_type": "markdown",
   "metadata": {
    "id": "yFu8xzCy9XDW"
   },
   "source": [
    "**It looks like we've hit what is possible with just using words.**\n",
    "Let's move on by incorporating word order!"
   ]
  },
  {
   "cell_type": "markdown",
   "metadata": {
    "id": "g41yW4PL9jG0"
   },
   "source": [
    "# LSTM"
   ]
  },
  {
   "cell_type": "markdown",
   "metadata": {
    "id": "ODzXEH0MaGpa"
   },
   "source": [
    "It is time to get more serious. Even with pre-trained word embeddings and multiple layers, we still seem to do pretty badly at sentiment classification. \n",
    "The next step we can take is to introduce word order again, dropping our independence assumptions. In this way, we can get a representation of the sentence as an ordered set of tokens.\n",
    "\n",
    "We will get this representation using a **Long Short-Term Memory** (LSTM). As an exercise, we will code our own LSTM cell, so that we get comfortable with its inner workings.\n",
    "Once we have an LSTM cell, we can call it repeatedly, updating its hidden state one word at a time:\n",
    "\n",
    "```python\n",
    "rnn = MyLSTMCell(input_size, hidden_size)\n",
    "\n",
    "hx = torch.zeros(1, hidden_size)  # initial hidden state\n",
    "cx = torch.zeros(1, hidden_size)  # initial memory cell\n",
    "output = []                       # to save intermediate LSTM states\n",
    "\n",
    "# feed one word at a time\n",
    "for i in range(n_timesteps):\n",
    "  hx, cx = rnn(input[i], (hx, cx))\n",
    "  output.append(hx)\n",
    "```\n",
    "\n",
    "If you need some more help understanding LSTMs, you can check out these resources:\n",
    "- Blog post (highly recommended): http://colah.github.io/posts/2015-08-Understanding-LSTMs/\n",
    "- Paper covering LSTM formulas in detail: https://arxiv.org/abs/1503.04069 \n"
   ]
  },
  {
   "cell_type": "markdown",
   "metadata": {
    "id": "v9f4b45BXKFC"
   },
   "source": [
    "#### Exercise: Finish the LSTM cell below. \n",
    "You will need to implement the LSTM formulas:\n",
    "\n",
    "$$\n",
    "\\begin{array}{ll}\n",
    "        i = \\sigma(W_{ii} x + b_{ii} + W_{hi} h + b_{hi}) \\\\\n",
    "        f = \\sigma(W_{if} x + b_{if} + W_{hf} h + b_{hf}) \\\\\n",
    "        g = \\tanh(W_{ig} x + b_{ig} + W_{hg} h + b_{hg}) \\\\\n",
    "        o = \\sigma(W_{io} x + b_{io} + W_{ho} h + b_{ho}) \\\\\n",
    "        c' = f * c + i * g \\\\\n",
    "        h' = o \\tanh(c') \\\\\n",
    "\\end{array}\n",
    " $$\n",
    "\n",
    "where $\\sigma$ is the sigmoid function.\n",
    "\n",
    "*Note that the LSTM formulas can differ slightly between different papers. We use the PyTorch LSTM formulation here.*"
   ]
  },
  {
   "cell_type": "markdown",
   "metadata": {
    "id": "4JM7xPhkQeE5"
   },
   "source": [
    "#### Optional: Efficient Matrix Multiplication\n",
    "\n",
    "It is more efficient to do a few big matrix multiplications than to do many smaller ones. So we will implement the above cell using just **two** linear layers.\n",
    "\n",
    "This is possible because the eight linear transformations contained in one forward pass through an LSTM cell can be reduced to just two:\n",
    "$$W_h h + b_h$$\n",
    "$$W_i x + b_i $$ \n",
    "\n",
    "with $h = $ `prev_h` and $x = $ `input_`.\n",
    "\n",
    "and where: \n",
    "\n",
    "$W_h =  \\begin{pmatrix}\n",
    "W_{hi}\\\\ \n",
    "W_{hf}\\\\ \n",
    "W_{hg}\\\\ \n",
    "W_{ho}\n",
    "\\end{pmatrix}$, $b_h = \\begin{pmatrix}\n",
    "b_{hi}\\\\ \n",
    "b_{hf}\\\\ \n",
    "b_{hg}\\\\ \n",
    "b_{ho}\n",
    "\\end{pmatrix}$,  $W_i = \\begin{pmatrix}\n",
    "W_{ii}\\\\ \n",
    "W_{if}\\\\ \n",
    "W_{ig}\\\\ \n",
    "W_{io}\n",
    "\\end{pmatrix}$ and $b_i = \\begin{pmatrix}\n",
    "b_{ii}\\\\ \n",
    "b_{if}\\\\ \n",
    "b_{ig}\\\\ \n",
    "b_{io}\n",
    "\\end{pmatrix}$.\n",
    "\n",
    "Convince yourself that, after chunking with [torch.chunk](https://pytorch.org/docs/stable/torch.html?highlight=chunk#torch.chunk), the output of those two linear transformations is equivalent to the output of the eight linear transformations in the LSTM cell calculations above."
   ]
  },
  {
   "cell_type": "markdown",
   "metadata": {
    "id": "X9gA-UcqSBe0"
   },
   "source": [
    "#### LSTM Classifier\n",
    "\n",
    "Having an LSTM cell is not enough: we still need some code that calls it repeatedly, and then makes a prediction from the final hidden state. \n",
    "You will find that code below. Make sure that you understand it."
   ]
  },
  {
   "cell_type": "markdown",
   "metadata": {
    "id": "FxFoVpvMPB6g"
   },
   "source": [
    "#### Dropout\n",
    "\n",
    "Data sparsity and a small data set can cause *overfitting*. This is a phenomenom that is very likely to occur when training strong and expressive models, like LSTMs, on small data. In practice, if your model overfits, this means that it will be very good at predicting (or \"remembering\") the sentiment of the training set, but unable to generalise to new, unseen data in the test set. This is undesirable and one technique to mitigate this issue is *dropout*. \n",
    "\n",
    "A dropout layer is defined by the following formula, which can be applied, for example, to a linear layer:\n",
    "\n",
    "$$\\text{tanh}(W(\\mathbf{h}\\odot \\mathbf{d}) + \\mathbf{b})$$\n",
    "\n",
    "where $\\mathbf{d} \\in \\{0, 1\\}^n$, with $d_j \\sim \\text{Bernoulli}(p)$, \n",
    "\n",
    "These formula simply means that we *drop* certain parameters during training (by setting them to zero). Which parameters we drop is stochastically determined by a Bernoulli distribution and the probability of each parameter being dropped is set to $p = 0.5$ in our experiments (see the previous cell of code where we define our output layer). A dropout layer can be applied at many different places in our models. This technique helps against the undesirable effect that a model relies on single parameters for prediction (e.g. if $h^{\\prime}_j$ is large, always predict positive). If we use dropout, the model needs to learn to rely on different parameters, which is desirable to obtain better generalisation to unseen data."
   ]
  },
  {
   "cell_type": "markdown",
   "metadata": {
    "id": "XQjEjLt9z0XW"
   },
   "source": [
    "**Let's train our LSTM!** Note that is will be a lot slower than previous models because we need to do many more computations per sentence.\n",
    "\n",
    "#### Training"
   ]
  },
  {
   "cell_type": "code",
   "execution_count": 1,
   "metadata": {
    "id": "ZowTV0EBTb3z"
   },
   "outputs": [
    {
     "name": "stdout",
     "output_type": "stream",
     "text": [
      "Namespace(iterations=10000, learning_rate=0.0005, batch_size=1, eval_every=300, model='lstm', embedding_dim=300, hidden_dim=168, embedding='glove', root='./data', model_dir='./save/models', resume=None, seed=42, evaluate=False, evaluate_on_length=False, use_subtrees=False, filename='lstm_iterations-10000_bsz-1_lr-0.0005', device='mps')\r\n",
      "Beginning training...\r\n",
      "[Iteration 300] Validation acc: 0.2679\r\n",
      "[Iteration 600] Validation acc: 0.3488\r\n",
      "[Iteration 900] Validation acc: 0.3261\r\n",
      "[Iteration 1000] Train loss: 1.536 \r\n",
      "[Iteration 1200] Validation acc: 0.3415\r\n",
      "[Iteration 1500] Validation acc: 0.3542\r\n",
      "[Iteration 1800] Validation acc: 0.3624\r\n",
      "[Iteration 2000] Train loss: 1.454 \r\n",
      "[Iteration 2100] Validation acc: 0.3842\r\n",
      "[Iteration 2400] Validation acc: 0.3715\r\n",
      "[Iteration 2700] Validation acc: 0.3815\r\n",
      "[Iteration 3000] Train loss: 1.444 \r\n",
      "[Iteration 3000] Validation acc: 0.3806\r\n",
      "[Iteration 3300] Validation acc: 0.3942\r\n",
      "[Iteration 3600] Validation acc: 0.3842\r\n",
      "[Iteration 3900] Validation acc: 0.3815\r\n",
      "[Iteration 4000] Train loss: 1.365 \r\n",
      "[Iteration 4200] Validation acc: 0.3915\r\n",
      "[Iteration 4500] Validation acc: 0.4015\r\n",
      "[Iteration 4800] Validation acc: 0.4033\r\n",
      "[Iteration 5000] Train loss: 1.356 \r\n",
      "[Iteration 5100] Validation acc: 0.3896\r\n",
      "[Iteration 5400] Validation acc: 0.4024\r\n",
      "[Iteration 5700] Validation acc: 0.4160\r\n",
      "[Iteration 6000] Train loss: 1.344 \r\n",
      "[Iteration 6000] Validation acc: 0.4196\r\n",
      "[Iteration 6300] Validation acc: 0.3560\r\n",
      "[Iteration 6600] Validation acc: 0.3951\r\n",
      "[Iteration 6900] Validation acc: 0.4151\r\n",
      "[Iteration 7000] Train loss: 1.324 \r\n",
      "[Iteration 7200] Validation acc: 0.3996\r\n",
      "[Iteration 7500] Validation acc: 0.4223\r\n",
      "[Iteration 7800] Validation acc: 0.4214\r\n",
      "[Iteration 8000] Train loss: 1.312 \r\n",
      "[Iteration 8100] Validation acc: 0.4332\r\n",
      "[Iteration 8400] Validation acc: 0.4314\r\n",
      "[Iteration 8700] Validation acc: 0.4314\r\n",
      "[Iteration 9000] Train loss: 0.592 \r\n",
      "[Iteration 9000] Validation acc: 0.4287\r\n",
      "[Iteration 9300] Validation acc: 0.4015\r\n",
      "[Iteration 9600] Validation acc: 0.3887\r\n",
      "[Iteration 9900] Validation acc: 0.4278\r\n",
      "[Iteration 10000] Train loss: 1.258 \r\n",
      "Beginning evaluation...\r\n",
      "Best model:\r\n",
      "\tIteration: 8099\r\n",
      "\tTrain accuracy: 0.4526\r\n",
      "\tValidation accuracy: 0.4332\r\n",
      "\tTest accuracy: 0.4281\r\n",
      "\r\n",
      "Experimental results:\r\n",
      "defaultdict(<class 'list'>, {'train_losses': [[1.5359629024863244, 1.4540534715652467, 1.4440598924458028, 1.365326792895794, 1.356256534680724, 1.3440659103542567, 1.3239196698665618, 1.3117081634402274, 0.5920468196868897, 1.258302172705531]], 'val_accuracies': [[0.26793823796548594, 0.34877384196185285, 0.3260672116257947, 0.34150772025431425, 0.3542234332425068, 0.36239782016348776, 0.38419618528610355, 0.371480472297911, 0.3814713896457766, 0.38056312443233425, 0.3941871026339691, 0.38419618528610355, 0.3814713896457766, 0.39146230699364215, 0.4014532243415077, 0.4032697547683924, 0.3896457765667575, 0.40236148955495005, 0.4159854677565849, 0.4196185286103542, 0.35603996366939145, 0.39509536784741145, 0.4150772025431426, 0.3996366939146231, 0.4223433242506812, 0.4214350590372389, 0.4332425068119891, 0.43142597638510444, 0.43142597638510444, 0.4287011807447775, 0.4014532243415077, 0.3887375113533152, 0.42779291553133514]], 'test_accuracies': [0.4280542986425339]})\r\n"
     ]
    }
   ],
   "source": [
    "!python -u main.py \\\n",
    "    --iterations 10000 \\\n",
    "    --eval_every 300 \\\n",
    "    --learning_rate 0.0005 \\\n",
    "    --model lstm \\\n",
    "    --embedding_dim 300 \\\n",
    "    --hidden_dim 168 \\\n",
    "    --embedding glove"
   ]
  },
  {
   "cell_type": "markdown",
   "metadata": {
    "id": "YEw6XHQY_AAQ"
   },
   "source": [
    "# Mini-batching\n",
    "\n"
   ]
  },
  {
   "cell_type": "markdown",
   "metadata": {
    "id": "FPf96wGzBTQJ"
   },
   "source": [
    "**Why is the LSTM so slow?** Despite our best efforts, we still need to make a lot of matrix multiplications per example (linear in the length of the example) just to get a single classification, and we can only process the 2nd word once we have computed the hidden state for the 1st word (sequential computation).\n",
    "\n",
    "GPUs are more efficient if we do a few big matrix multiplications, rather than lots of small ones. If we could process multiple examples at the same time, then we could exploit that. That is, we could still process the input sequentially, but doing so for multiple sentences at the same time.\n",
    "\n",
    "Up to now our \"mini-batches\" consisted of a single example. This was for a reason: the sentences in our data sets have **different lengths**, and this makes it difficult to process them at the same time.\n",
    "\n",
    "Consider a batch of 2 sentences:\n",
    "\n",
    "```\n",
    "this movie is bad\n",
    "this movie is super cool !\n",
    "```\n",
    "\n",
    "Let's say the IDs for these sentences are:\n",
    "\n",
    "```\n",
    "2 3 4 5\n",
    "2 3 4 6 7 8\n",
    "```\n",
    "\n",
    "We cannot feed PyTorch an object with rows of variable length! We need to turn this into a matrix.\n",
    "\n",
    "The solution is to add **padding values** to our mini-batch:\n",
    "\n",
    "```\n",
    "2 3 4 5 1 1\n",
    "2 3 4 6 7 8\n",
    "```\n",
    "\n",
    "Whenever a sentence is shorter than the longest sentence in a mini-batch, we just use a padding value (here: 1) to fill the matrix.\n",
    "\n",
    "In our computation, we should **ignore** the padding positions (e.g. mask them out) so that paddings do not contribute to the loss.\n",
    "\n",
    "#### Mini-batch feed\n",
    "We will now implement a `get_minibatch` function which will replace `get_example` and returns a mini-batch of the requested size."
   ]
  },
  {
   "cell_type": "markdown",
   "metadata": {
    "id": "DwZM-XYkT8Zx"
   },
   "source": [
    "#### Padding function\n",
    "We will need a function that adds padding 1s to a sequence of IDs so that\n",
    "it becomes as long as the longest sequence in the minibatch."
   ]
  },
  {
   "cell_type": "markdown",
   "metadata": {
    "id": "SL2iixMYUgfh"
   },
   "source": [
    "#### New `prepare` function\n",
    "\n",
    "We will also need a new function that turns a mini-batch into PyTorch tensors."
   ]
  },
  {
   "cell_type": "markdown",
   "metadata": {
    "id": "xYBJEoSNUwI0"
   },
   "source": [
    "#### Evaluate (mini-batch version)\n",
    "\n",
    "We can now update our evaluation function to use mini-batches"
   ]
  },
  {
   "cell_type": "markdown",
   "metadata": {
    "id": "23wAZomozh_2"
   },
   "source": [
    "# LSTM (Mini-batched)"
   ]
  },
  {
   "cell_type": "markdown",
   "metadata": {
    "id": "B-gkPU7jzBe2"
   },
   "source": [
    "With this, let's run the LSTM again but now using mini-batches!"
   ]
  },
  {
   "cell_type": "code",
   "execution_count": 43,
   "metadata": {
    "id": "1je5S1RHVC5R"
   },
   "outputs": [
    {
     "name": "stdout",
     "output_type": "stream",
     "text": [
      "[Iteration 300] Validation acc: 0.4124\r\n",
      "[Iteration 600] Validation acc: 0.4360\r\n",
      "[Iteration 900] Validation acc: 0.4223\r\n",
      "[Iteration 1000] Train loss: 0.392 \r\n",
      "[Iteration 1200] Validation acc: 0.4242\r\n",
      "[Iteration 1500] Validation acc: 0.4541\r\n",
      "[Iteration 1800] Validation acc: 0.4342\r\n",
      "[Iteration 2000] Train loss: 0.324 \r\n",
      "[Iteration 2100] Validation acc: 0.4659\r\n",
      "[Iteration 2400] Validation acc: 0.4559\r\n",
      "[Iteration 2700] Validation acc: 0.4460\r\n",
      "[Iteration 3000] Train loss: 0.250 \r\n",
      "[Iteration 3000] Validation acc: 0.4596\r\n",
      "[Iteration 3300] Validation acc: 0.4460\r\n",
      "[Iteration 3600] Validation acc: 0.4351\r\n",
      "[Iteration 3900] Validation acc: 0.4323\r\n",
      "[Iteration 4000] Train loss: 0.171 \r\n",
      "[Iteration 4200] Validation acc: 0.4378\r\n",
      "[Iteration 4500] Validation acc: 0.4278\r\n",
      "[Iteration 4800] Validation acc: 0.4450\r\n",
      "[Iteration 5000] Train loss: 0.097 \r\n",
      "[Iteration 5100] Validation acc: 0.4487\r\n",
      "[Iteration 5400] Validation acc: 0.4387\r\n",
      "[Iteration 5700] Validation acc: 0.4405\r\n",
      "[Iteration 6000] Train loss: 0.050 \r\n",
      "[Iteration 6000] Validation acc: 0.4296\r\n",
      "[Iteration 6300] Validation acc: 0.4214\r\n",
      "[Iteration 6600] Validation acc: 0.4024\r\n",
      "[Iteration 6900] Validation acc: 0.4260\r\n",
      "[Iteration 7000] Train loss: 0.022 \r\n",
      "[Iteration 7200] Validation acc: 0.4233\r\n",
      "[Iteration 7500] Validation acc: 0.4251\r\n",
      "[Iteration 7800] Validation acc: 0.4251\r\n",
      "[Iteration 8000] Train loss: 0.008 \r\n",
      "[Iteration 8100] Validation acc: 0.4242\r\n",
      "[Iteration 8400] Validation acc: 0.4450\r\n",
      "[Iteration 8700] Validation acc: 0.4342\r\n",
      "[Iteration 9000] Train loss: 0.011 \r\n",
      "[Iteration 9000] Validation acc: 0.4223\r\n",
      "[Iteration 9300] Validation acc: 0.4260\r\n",
      "[Iteration 9600] Validation acc: 0.4242\r\n",
      "[Iteration 9900] Validation acc: 0.4151\r\n",
      "[Iteration 10000] Train loss: 0.004 \r\n",
      "[Iteration 10200] Validation acc: 0.4269\r\n",
      "[Iteration 10500] Validation acc: 0.4314\r\n",
      "[Iteration 10800] Validation acc: 0.4205\r\n",
      "[Iteration 11000] Train loss: 0.001 \r\n",
      "[Iteration 11100] Validation acc: 0.4096\r\n",
      "[Iteration 11400] Validation acc: 0.4332\r\n",
      "[Iteration 11700] Validation acc: 0.4278\r\n",
      "[Iteration 12000] Train loss: 0.001 \r\n",
      "[Iteration 12000] Validation acc: 0.4278\r\n",
      "[Iteration 12300] Validation acc: 0.4205\r\n",
      "[Iteration 12600] Validation acc: 0.4223\r\n",
      "[Iteration 12900] Validation acc: 0.4260\r\n",
      "[Iteration 13000] Train loss: 0.000 \r\n",
      "[Iteration 13200] Validation acc: 0.4178\r\n",
      "[Iteration 13500] Validation acc: 0.4214\r\n",
      "[Iteration 13800] Validation acc: 0.4332\r\n",
      "[Iteration 14000] Train loss: 0.010 \r\n",
      "[Iteration 14100] Validation acc: 0.4342\r\n",
      "[Iteration 14400] Validation acc: 0.4169\r\n",
      "[Iteration 14700] Validation acc: 0.4178\r\n",
      "[Iteration 15000] Train loss: 0.006 \r\n",
      "[Iteration 15000] Validation acc: 0.4133\r\n",
      "[Iteration 15300] Validation acc: 0.4096\r\n",
      "[Iteration 15600] Validation acc: 0.4251\r\n",
      "[Iteration 15900] Validation acc: 0.4351\r\n",
      "[Iteration 16000] Train loss: 0.008 \r\n",
      "[Iteration 16200] Validation acc: 0.4078\r\n",
      "[Iteration 16500] Validation acc: 0.4278\r\n",
      "[Iteration 16800] Validation acc: 0.4314\r\n",
      "[Iteration 17000] Train loss: 0.009 \r\n",
      "[Iteration 17100] Validation acc: 0.4187\r\n",
      "[Iteration 17400] Validation acc: 0.4269\r\n",
      "[Iteration 17700] Validation acc: 0.4205\r\n",
      "[Iteration 18000] Train loss: 0.005 \r\n",
      "[Iteration 18000] Validation acc: 0.4196\r\n",
      "[Iteration 18300] Validation acc: 0.4223\r\n",
      "[Iteration 18600] Validation acc: 0.4233\r\n",
      "[Iteration 18900] Validation acc: 0.4342\r\n",
      "[Iteration 19000] Train loss: 0.005 \r\n",
      "[Iteration 19200] Validation acc: 0.4351\r\n",
      "[Iteration 19500] Validation acc: 0.4323\r\n",
      "[Iteration 19800] Validation acc: 0.4242\r\n",
      "[Iteration 20000] Train loss: 0.003 \r\n",
      "[Iteration 20100] Validation acc: 0.4242\r\n",
      "[Iteration 20400] Validation acc: 0.4351\r\n",
      "[Iteration 20700] Validation acc: 0.4269\r\n",
      "[Iteration 21000] Train loss: 0.007 \r\n",
      "[Iteration 21000] Validation acc: 0.4251\r\n",
      "[Iteration 21300] Validation acc: 0.4260\r\n",
      "[Iteration 21600] Validation acc: 0.4396\r\n",
      "[Iteration 21900] Validation acc: 0.3987\r\n",
      "[Iteration 22000] Train loss: 0.005 \r\n",
      "[Iteration 22200] Validation acc: 0.4278\r\n",
      "[Iteration 22500] Validation acc: 0.4323\r\n",
      "[Iteration 22800] Validation acc: 0.4205\r\n",
      "[Iteration 23000] Train loss: 0.000 \r\n",
      "[Iteration 23100] Validation acc: 0.4414\r\n",
      "[Iteration 23400] Validation acc: 0.4233\r\n",
      "[Iteration 23700] Validation acc: 0.4169\r\n",
      "[Iteration 24000] Train loss: 0.001 \r\n",
      "[Iteration 24000] Validation acc: 0.4187\r\n",
      "[Iteration 24300] Validation acc: 0.4160\r\n",
      "[Iteration 24600] Validation acc: 0.4114\r\n",
      "[Iteration 24900] Validation acc: 0.4142\r\n",
      "[Iteration 25000] Train loss: 0.000 \r\n",
      "[Iteration 25200] Validation acc: 0.4096\r\n",
      "[Iteration 25500] Validation acc: 0.4142\r\n",
      "[Iteration 25800] Validation acc: 0.4178\r\n",
      "[Iteration 26000] Train loss: 0.001 \r\n",
      "[Iteration 26100] Validation acc: 0.4260\r\n",
      "[Iteration 26400] Validation acc: 0.4051\r\n",
      "[Iteration 26700] Validation acc: 0.4105\r\n",
      "[Iteration 27000] Train loss: 0.002 \r\n",
      "[Iteration 27000] Validation acc: 0.4233\r\n",
      "[Iteration 27300] Validation acc: 0.4269\r\n",
      "[Iteration 27600] Validation acc: 0.4096\r\n",
      "[Iteration 27900] Validation acc: 0.4069\r\n",
      "[Iteration 28000] Train loss: 0.009 \r\n",
      "[Iteration 28200] Validation acc: 0.4233\r\n",
      "[Iteration 28500] Validation acc: 0.4260\r\n",
      "[Iteration 28800] Validation acc: 0.4432\r\n",
      "[Iteration 29000] Train loss: 0.003 \r\n",
      "[Iteration 29100] Validation acc: 0.4223\r\n",
      "[Iteration 29400] Validation acc: 0.4269\r\n",
      "[Iteration 29700] Validation acc: 0.4342\r\n",
      "[Iteration 30000] Train loss: 0.000 \r\n",
      "[Iteration 30000] Validation acc: 0.4323\r\n",
      "Beginning evaluation...\r\n",
      "Best model:\r\n",
      "\tIteration: 2099\r\n",
      "\tTrain accuracy: 0.5595\r\n",
      "\tValidation accuracy: 0.4659\r\n",
      "\tTest accuracy: 0.4747\r\n",
      "\r\n",
      "Experimental results:\r\n",
      "defaultdict(<class 'list'>, {'train_losses': [[0.3922476508617401, 0.32370281583070754, 0.24975008380413055, 0.1707792336344719, 0.09713019242882728, 0.049500086784362796, 0.021536123269237577, 0.007972272871062159, 0.011342656855471433, 0.004200125687289983, 0.0011159872798016295, 0.0011867085306439549, 4.520956985652447e-05, 0.010027858450222993, 0.005837604843400186, 0.008016399651882238, 0.008505960894617602, 0.004659070162684657, 0.004562252360658022, 0.0025829137043911032, 0.007262166362721473, 0.00478121644735802, 0.0003874484815823962, 0.0006848675482906401, 0.0003686566409887746, 0.0006685650524450467, 0.0016579929282415833, 0.008533741217448551, 0.002765678340521845, 0.00046518302639196916]], 'val_accuracies': [[0.4123524069028156, 0.4359673024523161, 0.4223433242506812, 0.42415985467756584, 0.45413260672116257, 0.43415077202543145, 0.4659400544959128, 0.45594913714804725, 0.44595821980018163, 0.45958219800181654, 0.44595821980018163, 0.43505903723887374, 0.4323342415985468, 0.43778383287920075, 0.42779291553133514, 0.44504995458673935, 0.44868301544050865, 0.43869209809264303, 0.4405086285195277, 0.4296094459582198, 0.4214350590372389, 0.40236148955495005, 0.4259763851044505, 0.4232515894641235, 0.4250681198910082, 0.4250681198910082, 0.42415985467756584, 0.44504995458673935, 0.43415077202543145, 0.4223433242506812, 0.4259763851044505, 0.42415985467756584, 0.4150772025431426, 0.4268846503178928, 0.43142597638510444, 0.42052679382379654, 0.40962761126248864, 0.4332425068119891, 0.42779291553133514, 0.42779291553133514, 0.42052679382379654, 0.4223433242506812, 0.4259763851044505, 0.4178019981834696, 0.4214350590372389, 0.4332425068119891, 0.43415077202543145, 0.41689373297002724, 0.4178019981834696, 0.41326067211625794, 0.40962761126248864, 0.4250681198910082, 0.43505903723887374, 0.407811080835604, 0.42779291553133514, 0.43142597638510444, 0.4187102633969119, 0.4268846503178928, 0.42052679382379654, 0.4196185286103542, 0.4223433242506812, 0.4232515894641235, 0.43415077202543145, 0.43505903723887374, 0.4323342415985468, 0.42415985467756584, 0.42415985467756584, 0.43505903723887374, 0.4268846503178928, 0.4250681198910082, 0.4259763851044505, 0.4396003633060854, 0.39872842870118075, 0.42779291553133514, 0.4323342415985468, 0.42052679382379654, 0.44141689373297005, 0.4232515894641235, 0.41689373297002724, 0.4187102633969119, 0.4159854677565849, 0.4114441416893733, 0.4141689373297003, 0.40962761126248864, 0.4141689373297003, 0.4178019981834696, 0.4259763851044505, 0.405086285195277, 0.410535876475931, 0.4232515894641235, 0.4268846503178928, 0.40962761126248864, 0.4069028156221617, 0.4232515894641235, 0.4259763851044505, 0.44323342415985467, 0.4223433242506812, 0.4268846503178928, 0.43415077202543145, 0.4323342415985468]], 'test_accuracies': [0.4746606334841629]})\r\n",
      "Namespace(iterations=10000, learning_rate=0.0005, batch_size=25, eval_every=300, model='lstm', embedding_dim=300, hidden_dim=168, embedding='glove', root='./data', model_dir='./save/models', resume=None, seed=42, evaluate=False, evaluate_on_length=False, use_subtrees=False, filename='lstm_iterations-10000_bsz-25_lr-0.0005', device='mps')\r\n",
      "Beginning training...\r\n",
      "[Iteration 300] Validation acc: 0.3878\r\n",
      "^C\r\n",
      "Traceback (most recent call last):\r\n",
      "  File \"/Users/luca/Documents/Masters/Natural Language Processing 1/practicals/main.py\", line 193, in <module>\r\n",
      "    train_losses, val_accuracies, test_accuracy = main(args)\r\n",
      "  File \"/Users/luca/Documents/Masters/Natural Language Processing 1/practicals/main.py\", line 181, in main\r\n",
      "    train_losses, val_accuracies, test_accuracy = train(model=model, batch_size=args.batch_size, optimizer=optimizer,\r\n",
      "  File \"/Users/luca/Documents/Masters/Natural Language Processing 1/practicals/train.py\", line 75, in train\r\n",
      "    loss.backward()\r\n",
      "  File \"/Users/luca/miniforge3/envs/nlp2022/lib/python3.9/site-packages/torch/_tensor.py\", line 487, in backward\r\n",
      "    torch.autograd.backward(\r\n",
      "  File \"/Users/luca/miniforge3/envs/nlp2022/lib/python3.9/site-packages/torch/autograd/__init__.py\", line 197, in backward\r\n",
      "    Variable._execution_engine.run_backward(  # Calls into the C++ engine to run the backward pass\r\n",
      "KeyboardInterrupt\r\n"
     ]
    }
   ],
   "source": [
    "!python -u main.py \\\n",
    "    --iterations 10000 \\\n",
    "    --eval_every 300 \\\n",
    "    --learning_rate 0.0005 \\\n",
    "    --model lstm \\\n",
    "    --embedding_dim 300 \\\n",
    "    --hidden_dim 168 \\\n",
    "    --embedding glove \\\n",
    "    --batch_size 25"
   ]
  },
  {
   "cell_type": "markdown",
   "metadata": {
    "id": "q7WjcxXntMi5"
   },
   "source": [
    "# Tree-LSTM"
   ]
  },
  {
   "cell_type": "markdown",
   "metadata": {
    "id": "jyj_UD6GtO5M"
   },
   "source": [
    "In the final part of this lab we will exploit the tree structure of the SST data. \n",
    "Until now we only used the surface tokens, but remember that our data examples include binary trees with a sentiment score at every node.\n",
    "\n",
    "In particular, we will implement **N-ary Tree-LSTMs** which are described in:\n",
    "\n",
    "> Kai Sheng Tai, Richard Socher, and Christopher D. Manning. [Improved Semantic Representations From Tree-Structured Long Short-Term Memory Networks](http://aclweb.org/anthology/P/P15/P15-1150.pdf) ACL 2015.\n",
    "\n",
    "Since our trees are binary (i.e., N=2), we can refer to these as *Binary Tree-LSTMs*. If you study equations (9) to (14) in the paper, you will find that they are not all too different from the original LSTM that you already have.\n",
    "\n",
    "You should read this paper carefully and make sure that you understand the approach. You will also find our LSTM baseline there.\n",
    "Note however that Tree-LSTMs were proposed around the same time by two other groups:\n",
    "\n",
    "> Phong Le and Willem Zuidema. [Compositional distributional semantics with long short term memory](http://anthology.aclweb.org/S/S15/S15-1002.pdf). *SEM 2015.\n",
    "\n",
    "> Xiaodan Zhu, Parinaz Sobihani,  and Hongyu Guo. [Long short-term memory over recursive structures](http://proceedings.mlr.press/v37/zhub15.pdf). ICML 2015.\n",
    "\n",
    "It is good scientific practice to cite all three papers in your report.\n",
    "\n",
    "\n"
   ]
  },
  {
   "cell_type": "markdown",
   "metadata": {
    "id": "1rDzvSos3JFp"
   },
   "source": [
    "## Computation\n",
    "\n",
    "Do you remember the `transitions_from_treestring` function all the way in the beginning of this lab? Every example contains a **transition sequence** produced by this function. Let's look at it again:\n",
    "\n"
   ]
  },
  {
   "cell_type": "markdown",
   "metadata": {
    "id": "ceBFe9fU4BI_"
   },
   "source": [
    "Note that the tree is **binary**. Every node has two children, except for pre-terminal nodes.\n",
    "\n",
    "A tree like this can be described by a sequence of **SHIFT (0)** and **REDUCE (1)** actions.\n",
    "\n",
    "To construct a tree, we can use the transitions as follows:\n",
    "- **reverse** the sentence (a list of tokens) and call this the **buffer**\n",
    "   - the first word is now on top (last in the list), and we would get it when calling pop() on the buffer\n",
    "- create an empty list and call it the **stack**\n",
    "- iterate through the transition sequence:\n",
    "  - if it says SHIFT(0), we pop a word from the buffer, and push it to the stack\n",
    "  - if it says REDUCE(1), we pop the **top two items** from the stack, and combine them (e.g. with a Tree-LSTM!), creating a new node that we push back on the stack\n",
    "  \n",
    "Convince yourself that going through the transition sequence above will result in the tree that you see.\n",
    "For example, we would start by putting the following words on the stack (by shifting 5 times, starting with `It`):\n",
    "\n",
    "```\n",
    "Top of the stack:\n",
    "-----------------\n",
    "film\n",
    "lovely\n",
    "a \n",
    "'s  \n",
    "It\n",
    "```\n",
    "Now we find a REDUCE in the transition sequence, so we get the top two words (film and lovely), and combine them, so our new stack becomes:\n",
    "```\n",
    "Top of the stack:\n",
    "-----------------\n",
    "lovely film\n",
    "a \n",
    "'s  \n",
    "It\n",
    "```\n",
    "\n",
    "We will use this approach when encoding sentences with our Tree-LSTM.\n",
    "Now, our sentence is a reversed list of word embeddings.\n",
    "When we shift, we move a word embedding to the stack.\n",
    "When we reduce, we apply the Tree-LSTM to the top two vectors, and the result is a single vector that we put back on the stack.\n",
    "After going through the whole transition sequence, we will have the root node on our stack! We can use that to classify the sentence.\n",
    "\n"
   ]
  },
  {
   "cell_type": "markdown",
   "metadata": {
    "id": "pDWKShm1AfmR"
   },
   "source": [
    "## Obtaining the transition sequence\n"
   ]
  },
  {
   "cell_type": "markdown",
   "metadata": {
    "id": "fO7VKWVpAbWj"
   },
   "source": [
    "\n",
    "So what goes on in the `transitions_from_treestring` function?\n",
    "\n",
    "The idea ([explained in this blog post](https://devblogs.nvidia.com/recursive-neural-networks-pytorch/)) is that, if we had a tree, we could traverse through the tree, and every time that we find a node containing only a word, we output a SHIFT.\n",
    "Every time **after** we have finished visiting the children of a node, we output a REDUCE.\n",
    "(What is this tree traversal called?)\n",
    "\n",
    "However, our `transitions_from_treestring` function operates directly on the string representation. It works as follows.\n",
    "\n",
    "We start with the representation:\n",
    "\n",
    "```\n",
    "(3 (2 It) (4 (4 (2 's) (4 (3 (2 a) (4 (3 lovely) (2 film))) (3 (2 with) (4 (3 (3 lovely) (2 performances)) (2 (2 by) (2 (2 (2 Buy) (2 and)) (2 Accorsi))))))) (2 .)))\n",
    "```\n",
    "\n",
    "First we remove pre-terminal nodes (and add spaces before closing brackets):\n",
    "\n",
    "```\n",
    "(3 It (4 (4 's (4 (3 a (4 lovely film ) ) (3 with (4 (3 lovely performances ) (2 by (2 (2 Buy and )  Accorsi ) ) ) ) ) ) . ) )\n",
    "```\n",
    "\n",
    "Then we remove node labels:\n",
    "\n",
    "```\n",
    "( It ( ( 's ( ( a ( lovely film ) ) ( with ( ( lovely performances) ( by ( ( Buy and )  Accorsi ) ) ) ) ) ) . ) )\n",
    "```\n",
    "\n",
    "Then we remove opening brackets:\n",
    "\n",
    "```\n",
    "It 's a lovely film ) ) with lovely performances ) by Buy and ) Accorsi ) ) ) ) ) ) . ) )\n",
    "```\n",
    "\n",
    "Now we replace words by S (for SHIFT), and closing brackets by R (for REDUCE):\n",
    "\n",
    "```\n",
    "S S S S S R R S S S R S S S R S R R R R R R S R R\n",
    "0 0 0 0 0 1 1 0 0 0 1 0 0 0 1 0 1 1 1 1 1 1 0 1 1 \n",
    "```\n",
    "\n",
    "Et voilà. We just obtained the transition sequence!"
   ]
  },
  {
   "cell_type": "markdown",
   "metadata": {
    "id": "d-qOuKbDAiBn"
   },
   "source": [
    "## Coding the Tree-LSTM\n",
    "\n",
    "The code below contains a Binary Tree-LSTM cell.\n",
    "It is used in the TreeLSTM class below it, which in turn is used in the TreeLSTMClassifier.\n",
    "The job of the TreeLSTM class is to encode a complete sentence and return the root node.\n",
    "The job of the TreeLSTMCell is to return a new state when provided with two children (a reduce action). By repeatedly calling the TreeLSTMCell, the TreeLSTM will encode a sentence. This can be done for multiple sentences at the same time.\n",
    "\n",
    "\n",
    "#### Exercise \n",
    "Check the `forward` function and complete the Tree-LSTM formulas.\n",
    "You can see that we defined a large linear layer for you, that projects the *concatenation* of the left and right child into the input gate, left forget gate, right forget gate, candidate, and output gate."
   ]
  },
  {
   "cell_type": "markdown",
   "metadata": {
    "id": "Dj5dYSGh_643"
   },
   "source": [
    "## Explanation of the TreeLSTM class\n",
    "\n",
    "\n",
    "The code below contains the TreeLSTM class, which implements everything we need in order to encode a sentence from word embeddings. The calculations are the same as in the paper, implemented such that the class `TreeLSTMCell` above is as general as possible and only takes two children to reduce them into a parent. \n",
    "\n",
    "\n",
    "**Initialize $\\mathbf{h}$ and $\\mathbf{c}$ outside of the cell for the leaves**\n",
    "\n",
    "At the leaves of each tree the children nodes are **empty**, whereas in higher levels the nodes are binary tree nodes that *do* have a left and right child (but no input $x$). By initializing the leaf nodes outside of the cell class (`TreeLSTMCell`), we avoid if-else statements in the forward pass.\n",
    "\n",
    "The `TreeLSTM` class (among other things) pre-calculates an initial $h$ and $c$ for every word in the sentence. Since the initial left and right child are 0, the only calculations we need to do are based on $x$, and we can drop the forget gate calculation (`prev_c_l` and `prev_c_r` are zero). The calculations we do in order to initalize $h$ and $c$ are then:\n",
    "\n",
    "$$\n",
    "c_1 =  W^{(u)}x_1 \\\\\n",
    "o_1 = \\sigma (W^{(i)}x_1) \\\\\n",
    "h_1 = o_1 \\odot \\text{tanh}(c_1)$$\n",
    "*NB: note that these equations are chosen as initializations of $c$ and $h$, other initializations are possible and might work equally well.*\n",
    "\n",
    "**Sentence Representations**\n",
    "\n",
    "All our leaf nodes are now initialized, so we can start processing the sentence in its tree form. Each sentence is represented by a buffer (initially a list with a concatenation of $[h_1, c_1]$ for every word in the reversed sentence), a stack (initially an empty list) and a transition sequence. To encode our sentence, we construct the tree from its transition sequence as explained earlier. \n",
    "\n",
    "*A short example that constructs a tree:*\n",
    "\n",
    "We loop over the time dimension of the batched transition sequences (i.e. row by row), which contain values of 0's, 1's and 2's (representing SHIFT, REDUCE and padding respectively). If we have a batch of size 2 where the first example has a transition sequence given by [0, 0, 1, 0, 0, 0, 1] and the second by [0, 0, 1, 0, 0, 1], our transition batch will be given by the following two-dimensional numpy array:\n",
    "\n",
    "$$\n",
    "\\text{transitions} = \n",
    "\\begin{pmatrix}\n",
    "0 & 0\\\\ \n",
    "0 & 0\\\\ \n",
    "1 & 1\\\\ \n",
    "0 & 0\\\\ \n",
    "0 & 0\\\\ \n",
    "0 & 1\\\\ \n",
    "1 & 2\n",
    "\\end{pmatrix}\n",
    "$$\n",
    "The inner loop (`for transition, buffer, stack in zip(t_batch, buffers, stacks)`) goes over each example in the batch and updates its buffer and stack. The nested loop for this example will then do roughy the following:\n",
    "\n",
    "```\n",
    "Time = 0:  t_batch = [0, 0], the inner loop performs 2 SHIFTs. \n",
    "\n",
    "Time = 1:  t_batch = [0, 0], \"..\"\n",
    "\n",
    "Time = 2:  t_batch = [1, 1], causing the inner loop to fill the list child_l and child_r for both examples in the batch. Now the statement if child_l will return True, triggering a REDUCE action to be performed by our Tree LSTM cell with a batch size of 2. \n",
    "\n",
    "Time = 3:  t_batch = [0, 0], \"..\".\n",
    "\n",
    "Time = 4:  t_batch = [0, 0], \"..\"\n",
    "\n",
    "Time = 5:  t_batch = [0, 1], one SHIFT will be done and another REDUCE action will be performed by our Tree LSTM, this time of batch size 1.  \n",
    "\n",
    "Time = 6:  t_batch = [1, 2], triggering another REDUCE action with batch size 1.\n",
    "```\n",
    "*NB: note that this was an artificial example for the purpose of demonstrating parts of the code, the transition sequences do not necessarily represent actual trees.*\n",
    "\n",
    "**Batching and Unbatching**\n",
    "\n",
    "Within the body of the outer loop over time, we use the functions for batching and unbatching. \n",
    "\n",
    "*Batching*\n",
    "\n",
    "Before passing two lists of children to the reduce layer (an instance of `TreeLSTMCell`), we batch the children as they are at this point a list of tensors of variable length based on how many REDUCE actions there are to perform at a certain time step across the batch (let's call the length `L`). To do an efficient forward pass we want to transform the list to a pair of tensors of shape `([L, D], [L, D])`, which the function `batch` achieves. \n",
    "\n",
    "*Unbatching*\n",
    "\n",
    "In the same line where we batched the children, we unbatch the output of the forward pass to become a list of states of length `L` again. We do this because we need to loop over each example's transition at the current time step and push the children that are reduced into a parent to the stack.\n",
    "\n",
    "*The batch and unbatch functions let us switch between the \"PyTorch world\" (Tensors) and the Python world (easy to manipulate lists).*\n"
   ]
  },
  {
   "cell_type": "markdown",
   "metadata": {
    "id": "CynltDasaLPt"
   },
   "source": [
    "Take some time to understand the class below, having read the explanation above."
   ]
  },
  {
   "cell_type": "markdown",
   "metadata": {
    "id": "s4EzbVzqaXkw"
   },
   "source": [
    "Just like the LSTM before, we will need an extra class that does the classifications."
   ]
  },
  {
   "cell_type": "markdown",
   "metadata": {
    "id": "gh9RbhGwaiLg"
   },
   "source": [
    "## Special `prepare` function for Tree-LSTM\n",
    "\n",
    "We need yet another `prepare` function. For our implementation, sentences need to be *reversed*. We will do that here."
   ]
  },
  {
   "cell_type": "markdown",
   "metadata": {
    "id": "IMUsrlL9ayVe"
   },
   "source": [
    "## Training"
   ]
  },
  {
   "cell_type": "code",
   "execution_count": 2,
   "metadata": {
    "id": "DHcHHaLtguUg"
   },
   "outputs": [
    {
     "name": "stdout",
     "output_type": "stream",
     "text": [
      "Namespace(iterations=10000, learning_rate=0.0005, batch_size=25, eval_every=300, model='tree_lstm', embedding_dim=300, hidden_dim=150, embedding='glove', root='./data', model_dir='./save/models', resume=None, seed=42, evaluate=False, evaluate_on_length=False, use_subtrees=False, filename='tree_lstm_iterations-10000_bsz-25_lr-0.0005', device='mps')\r\n",
      "Beginning training...\r\n",
      "[Iteration 300] Validation acc: 0.4196\r\n",
      "[Iteration 600] Validation acc: 0.4296\r\n",
      "[Iteration 900] Validation acc: 0.4387\r\n",
      "[Iteration 1000] Train loss: 0.384 \r\n",
      "[Iteration 1200] Validation acc: 0.4632\r\n",
      "[Iteration 1500] Validation acc: 0.4596\r\n",
      "[Iteration 1800] Validation acc: 0.4523\r\n",
      "[Iteration 2000] Train loss: 0.322 \r\n",
      "[Iteration 2100] Validation acc: 0.4714\r\n",
      "[Iteration 2400] Validation acc: 0.4614\r\n",
      "[Iteration 2700] Validation acc: 0.4505\r\n",
      "[Iteration 3000] Train loss: 0.259 \r\n",
      "[Iteration 3000] Validation acc: 0.4550\r\n",
      "[Iteration 3300] Validation acc: 0.4233\r\n",
      "[Iteration 3600] Validation acc: 0.4423\r\n",
      "[Iteration 3900] Validation acc: 0.4378\r\n",
      "[Iteration 4000] Train loss: 0.192 \r\n",
      "[Iteration 4200] Validation acc: 0.4378\r\n",
      "[Iteration 4500] Validation acc: 0.4405\r\n",
      "[Iteration 4800] Validation acc: 0.4378\r\n",
      "[Iteration 5000] Train loss: 0.127 \r\n",
      "[Iteration 5100] Validation acc: 0.4251\r\n",
      "[Iteration 5400] Validation acc: 0.4278\r\n",
      "[Iteration 5700] Validation acc: 0.4196\r\n",
      "[Iteration 6000] Train loss: 0.077 \r\n",
      "[Iteration 6000] Validation acc: 0.4414\r\n",
      "[Iteration 6300] Validation acc: 0.4142\r\n",
      "[Iteration 6600] Validation acc: 0.4296\r\n",
      "[Iteration 6900] Validation acc: 0.4214\r\n",
      "[Iteration 7000] Train loss: 0.037 \r\n",
      "[Iteration 7200] Validation acc: 0.4260\r\n",
      "[Iteration 7500] Validation acc: 0.4187\r\n",
      "[Iteration 7800] Validation acc: 0.4160\r\n",
      "[Iteration 8000] Train loss: 0.021 \r\n",
      "[Iteration 8100] Validation acc: 0.4251\r\n",
      "[Iteration 8400] Validation acc: 0.4242\r\n",
      "[Iteration 8700] Validation acc: 0.4124\r\n",
      "[Iteration 9000] Train loss: 0.011 \r\n",
      "[Iteration 9000] Validation acc: 0.4405\r\n",
      "[Iteration 9300] Validation acc: 0.4332\r\n",
      "[Iteration 9600] Validation acc: 0.4142\r\n",
      "[Iteration 9900] Validation acc: 0.4051\r\n",
      "[Iteration 10000] Train loss: 0.006 \r\n",
      "Beginning evaluation...\r\n",
      "Best model:\r\n",
      "\tIteration: 2099\r\n",
      "\tTrain accuracy: 0.5730\r\n",
      "\tValidation accuracy: 0.4714\r\n",
      "\tTest accuracy: 0.4869\r\n",
      "\r\n",
      "Experimental results:\r\n",
      "defaultdict(<class 'list'>, {'train_losses': [[0.38404775619506837, 0.3215043677687645, 0.2594520940184593, 0.1918772377371788, 0.12733878475427626, 0.07707170332968236, 0.03748233798891306, 0.021478649923577904, 0.010659389762207866, 0.00628685652744025]], 'val_accuracies': [[0.4196185286103542, 0.4296094459582198, 0.43869209809264303, 0.46321525885558584, 0.45958219800181654, 0.45231607629427795, 0.4713896457765668, 0.46139872842870117, 0.45049954586739327, 0.4550408719346049, 0.4232515894641235, 0.44232515894641233, 0.43778383287920075, 0.43778383287920075, 0.4405086285195277, 0.43778383287920075, 0.4250681198910082, 0.42779291553133514, 0.4196185286103542, 0.44141689373297005, 0.4141689373297003, 0.4296094459582198, 0.4214350590372389, 0.4259763851044505, 0.4187102633969119, 0.4159854677565849, 0.4250681198910082, 0.42415985467756584, 0.4123524069028156, 0.4405086285195277, 0.4332425068119891, 0.4141689373297003, 0.405086285195277]], 'test_accuracies': [0.48687782805429863]})\r\n"
     ]
    }
   ],
   "source": [
    "!python -u main.py \\\n",
    "    --iterations 10000 \\\n",
    "    --eval_every 300 \\\n",
    "    --learning_rate 0.0005 \\\n",
    "    --model tree_lstm \\\n",
    "    --embedding_dim 300 \\\n",
    "    --hidden_dim 150 \\\n",
    "    --batch_size 25 \\\n",
    "    --embedding glove"
   ]
  },
  {
   "cell_type": "markdown",
   "metadata": {
    "id": "f7QZZH86eHqu"
   },
   "source": [
    "# Further experiments and report\n",
    "\n",
    "For your report, you are expected to answer research questions by doing further experiments.\n",
    "\n",
    "## Research Questions\n",
    "\n",
    "Make sure you cover at least the following:\n",
    "\n",
    "- How important is word order for this task?\n",
    "- Does the tree structure help to get a better accuracy?\n",
    "- How does performance depend on the sentence length? Compare the various models. Is there a model that does better on longer sentences? If so, why?\n",
    "- Do you get better performance if you supervise the sentiment **at each node in the tree**? You can extract more training examples by treating every node in each tree as a separate tree. You will need to write a function that extracts all subtrees given a treestring. \n",
    "    - Warning: NLTK's Tree function seems to result in invalid trees in some cases, so be careful if you want to parse the string to a tree structure before extraction the phrases.\n",
    "\n",
    "**To be able to obtain a full grade (10), you should conduct further investigations.** For example, you can also investigate one the following:\n",
    "\n",
    "- When making a wrong prediction, can you figure out at what point in the tree (sentence) the model fails? You can make a prediction at each node to investigate.\n",
    "- How does N-ary Tree LSTM compare to the Child-Sum Tree LSTM? \n",
    "- How do the Tai et al. Tree LSTMs compare to Le & Zuidema's formulation?\n",
    "- Or... your own research question!\n",
    "\n",
    "These examples should give you an idea of the expected scope of your further investigations.\n",
    "\n",
    "In general:\n",
    "\n",
    "- ***When you report numbers, please report the mean accuracy across 3 (or more) runs with different random seed, together with the standard deviation.*** This is because the final performance may vary per random seed. \n",
    "More precisely, you should run each model with 3 different seeds, and for each of these 3 runs, evaluate the best model (according to the validation) on the test dataset. The validation dataset is used for finding the best model over iterations, but the accuracy you report should be on the test dataset.\n",
    "\n",
    "## Report instructions\n",
    "\n",
    "Your report needs to be written in LaTeX. You are required to use the ACL 2020 template which you can download from or edit directly on [Overleaf](https://www.overleaf.com/latex/templates/instructions-for-acl-2018-proceedings/xzmhqgnmkppc). Make sure your names and student numbers are visible at the top. (Tip: you need to uncomment `\\aclfinalcopy`).\n",
    "You can find some general tips about writing a research paper [here](https://www.microsoft.com/en-us/research/academic-program/write-great-research-paper/), but note that you need to make your own judgment about what is appropriate for this project. \n",
    "\n",
    "We expect you to use the following structure:\n",
    "1. Introduction (~1 page) - describe the problem, your research questions and goals, a summary of your findings and contributions. Please cite related work (models, data set) as part of your introduction here, since this is a short paper.\n",
    "    - Introduce the task and the main goal\n",
    "    - Present your research questions\n",
    "    - Motivate the importance of the questions\n",
    "    - Present and explain your expectations\n",
    "    - Make clear whether the research questions are addressed or not addressed in the literature\n",
    "    - Describe the approach you use to answer the research questions\n",
    "    - Summarise your findings\n",
    "2. Background (~1/2-1 page) -\n",
    "cover the main techniques (\"building blocks\") used in your project (e.g. word embeddings, LSTM, Tree-LSTM) and intuitions behind them. Be accurate and concise.\n",
    "    - How does each technique work? (Don't just copy the formulas)\n",
    "    - What is the relation between the techniques?\n",
    "3. Models (~1/2 page) - Describe the architecture of the final models.\n",
    "    - How do you use LSTM or Tree-LSTM for the sentiment classification task? \n",
    "    - What layers do you have, how do you do classification? \n",
    "    - What is your loss function?\n",
    "    - Etc.\n",
    "4. Experiments (~1/2 page) - Describe your experimental setup. This section should allow someone else to reproduce your experiments. Describe how you evaluate the models.\n",
    "    - Task and the data\n",
    "    - Training (model, data, parameters and hyper parameters, training algorithms, supervision signals, etc.)\n",
    "    - Evaluation (e.g. metrics)\n",
    "5. Results and Analysis (~1 page). Present the results and analyse your findings.\n",
    "    - Answer each of the research questions you raised in the introduction.\n",
    "    - Use figures and tables to highlight interesting patterns\n",
    "    - What are the factors that make model A better than model B in task C? Investigate to prove their effect!\n",
    "6. Conclusion (~1/4 page). Present the conclusions that can be drawn from your experiments.\n",
    "    - What have you learned from you experiments?\n",
    "    - How do your findings relate to what is already known in the literature?\n",
    "    - Were the results as expected? Any surprising results? Why?\n",
    "    - Based on what you learned, what would you suggest doing next?\n",
    "\n",
    "\n",
    "General Tips:\n",
    "\n",
    "- Math notation – define each variable (either in running text, or in a pseudo-legenda after or before the equation).\n",
    "- Define technical terminology you need.\n",
    "- Avoid colloquial language – everything can be said in a scientific-sounding way.\n",
    "- Avoid lengthy sentences, stay to the point.\n",
    "- Do not spend space on \"obvious\" things.\n",
    "- Do not go over the page limit. (We will deduct points for that.)\n",
    "- The page limit is 4 pages excluding references and appendix. This is a strict limit; points will be deducted for longer reports. \n",
    "- There is no strict limit to references and appendix. However, the report needs to remain fully self-contained: the appendix should only include content that is not necessary to understand your work. For example, preprocessing decisions, model parameters, pseudocode, sample system inputs/outputs, and other details that are necessary for the exact replication of your work can be put into the appendix. \n",
    "\n",
    "\n",
    "An ideal report:\n",
    "- Precise, scientific-sounding, technical, to the point \n",
    "  - Little general “waffle”/chit-chat\n",
    "- Not boring – because you don’t explain obvious things too much\n",
    "- Efficient delivery of (only) the facts that we need to know to understand/reimplement\n",
    "- Results visually well-presented and described with the correct priority of importance of sub-results\n",
    "- Insightful analysis – speculation should connect to something interesting and not be too much; the reader “learns something new”\n",
    "- No typos, no colloquialisms – well-considered language\n",
    "- This normally means several re-draftings (re-orderings of information)\n"
   ]
  },
  {
   "cell_type": "code",
   "execution_count": null,
   "outputs": [],
   "source": [],
   "metadata": {
    "collapsed": false
   }
  }
 ],
 "metadata": {
  "accelerator": "GPU",
  "colab": {
   "provenance": []
  },
  "kernelspec": {
   "display_name": "Python 3.9.15 ('nlp2022')",
   "language": "python",
   "name": "python3"
  },
  "language_info": {
   "codemirror_mode": {
    "name": "ipython",
    "version": 3
   },
   "file_extension": ".py",
   "mimetype": "text/x-python",
   "name": "python",
   "nbconvert_exporter": "python",
   "pygments_lexer": "ipython3",
   "version": "3.9.15"
  },
  "vscode": {
   "interpreter": {
    "hash": "b781e694b17327a59cad5497979eeb7742bff63c4ce522a311d61a428c4ee5db"
   }
  }
 },
 "nbformat": 4,
 "nbformat_minor": 1
}
